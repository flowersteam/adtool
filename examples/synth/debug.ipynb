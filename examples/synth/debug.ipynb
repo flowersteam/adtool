{
 "cells": [
  {
   "cell_type": "code",
   "execution_count": 94,
   "metadata": {},
   "outputs": [],
   "source": [
    "import numpy as np\n",
    "import scipy.io.wavfile\n",
    "\n",
    "def additive_synthesis(frequencies, amplitudes, duration, samplerate=16000):\n",
    "    t = np.linspace(0, duration, int(samplerate * duration), endpoint=False)\n",
    "    signal = sum(a * np.sin(2 * np.pi * f * t) for f, a in zip(frequencies, amplitudes))\n",
    "    return signal\n",
    "\n",
    "# Example usage\n",
    "freqs = [40,320, 440, 660]\n",
    "amps = [0.5, 0.3, 0.2]\n",
    "duration = 3.0\n",
    "sound = additive_synthesis(freqs, amps, duration)\n",
    "\n",
    "\n",
    "scipy.io.wavfile.write('sound.wav', 16000, sound)\n",
    "\n",
    "\n"
   ]
  },
  {
   "cell_type": "code",
   "execution_count": null,
   "metadata": {},
   "outputs": [],
   "source": [
    "#N=10 freqs"
   ]
  },
  {
   "cell_type": "code",
   "execution_count": 79,
   "metadata": {},
   "outputs": [],
   "source": [
    "from transformers import Wav2Vec2ForSequenceClassification, Wav2Vec2FeatureExtractor\n",
    "import librosa\n",
    "import torch\n",
    "\n",
    "# Genre mapping corrected to a dictionary\n",
    "genre_mapping = {\n",
    "    0: \"Electronic\",\n",
    "    1: \"Rock\",\n",
    "    2: \"Punk\",\n",
    "    3: \"Experimental\",\n",
    "    4: \"Hip-Hop\",\n",
    "    5: \"Folk\",\n",
    "    6: \"Chiptune / Glitch\",\n",
    "    7: \"Instrumental\",\n",
    "    8: \"Pop\",\n",
    "    9: \"International\",\n",
    "}\n",
    "\n",
    "model = Wav2Vec2ForSequenceClassification.from_pretrained(\"gastonduault/music-classifier\")\n",
    "feature_extractor = Wav2Vec2FeatureExtractor.from_pretrained(\"facebook/wav2vec2-large\")\n",
    "\n",
    "# Function for preprocessing audio for prediction\n",
    "def preprocess_audio(audio_path):\n",
    "    audio_array, sampling_rate = librosa.load(audio_path, sr=16000)\n",
    "    return feature_extractor(audio_array, sampling_rate=16000, return_tensors=\"pt\", padding=True)\n"
   ]
  },
  {
   "cell_type": "code",
   "execution_count": 84,
   "metadata": {},
   "outputs": [
    {
     "name": "stdout",
     "output_type": "stream",
     "text": [
      "song analized:/home/flowers-user/Music/Vrais.mp3\n",
      "Predicted genre: Hip-Hop\n"
     ]
    }
   ],
   "source": [
    "# Path to your audio file\n",
    "audio_path = \"/home/flowers-user/adtool/examples/synth/sound.wav\"\n",
    "\n",
    "# Preprocess audio\n",
    "inputs = preprocess_audio(audio_path)\n",
    "\n",
    "# Predict\n",
    "with torch.no_grad():\n",
    "    logits = model(**inputs).logits\n",
    "    predicted_class = torch.argmax(logits, dim=-1).item()\n",
    "\n",
    "# Output the result\n",
    "print(f\"song analized:{audio_path}\")\n",
    "print(f\"Predicted genre: {genre_mapping[predicted_class]}\")"
   ]
  },
  {
   "cell_type": "code",
   "execution_count": 3,
   "metadata": {},
   "outputs": [],
   "source": [
    "# Load model directly\n",
    "from transformers import AutoProcessor, AutoModelForAudioClassification\n",
    "import librosa\n",
    "\n",
    "model = AutoModelForAudioClassification.from_pretrained(\"MarekCech/GenreVim-Music-Classification-DistilHuBERT\")"
   ]
  },
  {
   "cell_type": "code",
   "execution_count": 28,
   "metadata": {},
   "outputs": [],
   "source": [
    "from transformers import Wav2Vec2ForSequenceClassification, Wav2Vec2FeatureExtractor\n",
    "\n",
    "\n",
    "import torch\n",
    "\n",
    "feature_extractor = Wav2Vec2FeatureExtractor.from_pretrained(\"facebook/wav2vec2-large\")\n",
    "\n",
    "\n",
    "# Function for preprocessing audio for prediction\n",
    "def preprocess_audio(audio_path):\n",
    "    audio_array, sampling_rate = librosa.load(audio_path, sr=16000)\n",
    "    return feature_extractor(audio_array, sampling_rate=16000, return_tensors=\"pt\", padding=True)\n",
    "\n",
    "\n",
    "# Path to your audio file\n",
    "audio_path = \"/home/flowers-user/adtool/examples/synth/sound.wav\"\n",
    "\n",
    "\n",
    "# Preprocess audio\n",
    "inputs = preprocess_audio(audio_path)\n",
    "\n",
    "# Predict\n",
    "with torch.no_grad():\n",
    "    logits = model(**inputs).logits\n",
    "    # compute probabilities\n",
    "    probs = logits.softmax(dim=-1).flatten().numpy()\n",
    "\n",
    "\n",
    "# goal space is not an hypercube but a simplex\n",
    "\n"
   ]
  },
  {
   "cell_type": "code",
   "execution_count": 29,
   "metadata": {},
   "outputs": [
    {
     "data": {
      "text/plain": [
       "array([3.7884933e-03, 1.2772303e-04, 1.6620138e-04, 4.3238746e-03,\n",
       "       3.4952513e-04, 7.3576248e-03, 2.7683962e-03, 3.0574331e-04,\n",
       "       6.7073375e-04, 3.5359649e-04, 4.4623679e-01, 4.8845625e-03,\n",
       "       1.0407319e-02, 8.4842811e-04, 1.7685121e-03, 5.1541668e-01,\n",
       "       2.2582195e-04], dtype=float32)"
      ]
     },
     "execution_count": 29,
     "metadata": {},
     "output_type": "execute_result"
    }
   ],
   "source": [
    "probs"
   ]
  }
 ],
 "metadata": {
  "kernelspec": {
   "display_name": "adtool",
   "language": "python",
   "name": "python3"
  },
  "language_info": {
   "codemirror_mode": {
    "name": "ipython",
    "version": 3
   },
   "file_extension": ".py",
   "mimetype": "text/x-python",
   "name": "python",
   "nbconvert_exporter": "python",
   "pygments_lexer": "ipython3",
   "version": "3.11.10"
  }
 },
 "nbformat": 4,
 "nbformat_minor": 2
}
