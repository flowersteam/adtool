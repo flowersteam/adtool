{
 "cells": [
  {
   "cell_type": "code",
   "execution_count": 316,
   "metadata": {},
   "outputs": [],
   "source": [
    "path=\"/home/flowers-user/adtool/discoveries/2024-09-06T20:09_exp_0_idx_2_seed_42/discovery.json\"\n",
    "\n",
    "import json\n",
    "import sys\n",
    "import os\n",
    "import numpy as np\n",
    "\n",
    "def load_json(filename):\n",
    "    with open(filename, 'r') as f:\n",
    "        return json.load(f)\n",
    "    \n",
    "\n",
    "discovery = load_json(path)"
   ]
  },
  {
   "cell_type": "code",
   "execution_count": 317,
   "metadata": {},
   "outputs": [],
   "source": [
    "params=discovery['params']['dynamic_params']"
   ]
  },
  {
   "cell_type": "code",
   "execution_count": 318,
   "metadata": {},
   "outputs": [],
   "source": [
    "\n",
    "# from matplotlib import pyplot as plt\n",
    "# final_state = discovery['raw_output']\n",
    "# final_state = np.array(final_state)\n",
    "# plt.hist(final_state, bins=50)\n",
    "# plt.show()"
   ]
  },
  {
   "cell_type": "code",
   "execution_count": 338,
   "metadata": {},
   "outputs": [],
   "source": [
    "\n",
    "\n",
    "\n",
    "matrix1 = np.array([[params['a'], -params['b'], -params['c'], -params['d']],\n",
    "                        [params['b'], params['a'], -params['d'], params['c']],\n",
    "                        [params['c'], params['d'], params['a'], -params['b']],\n",
    "                        [params['d'], -params['c'], params['b'], params['a']]],\n",
    "                        dtype=np.float64)\n",
    "\n",
    "matrix2 = np.array([[params['p'], -params['q'], -params['r'], -params['s']],\n",
    "                        [params['q'], params['p'], params['s'], -params['r']],\n",
    "                        [params['r'], -params['s'], params['p'], params['q']],\n",
    "                        [params['s'], params['r'], -params['q'], params['p']]],\n",
    "                        dtype=np.float64)\n",
    "\n"
   ]
  },
  {
   "cell_type": "code",
   "execution_count": 339,
   "metadata": {},
   "outputs": [],
   "source": [
    "matrix = np.matmul(matrix1, matrix2)"
   ]
  },
  {
   "cell_type": "code",
   "execution_count": 340,
   "metadata": {},
   "outputs": [],
   "source": [
    "# take the inverse of the matrix\n",
    "inv_matrix = np.linalg.inv(matrix)"
   ]
  },
  {
   "cell_type": "code",
   "execution_count": null,
   "metadata": {},
   "outputs": [],
   "source": []
  },
  {
   "cell_type": "code",
   "execution_count": 341,
   "metadata": {},
   "outputs": [],
   "source": [
    "final_state=np.array(discovery['raw_output'])*100\n",
    "width, height = final_state.shape\n",
    "\n",
    "# add noise to the final state\n",
    "#noise = np.random.normal(0, 1, (width, height))*0.2\n",
    "# uniform between min and max\n",
    "noise = np.random.uniform(final_state.min(), final_state.max(), (width, height))*0.2\n",
    "#noise = noise *1000/np.sum(noise)\n",
    "#final_state = final_state + noise"
   ]
  },
  {
   "cell_type": "code",
   "execution_count": 388,
   "metadata": {},
   "outputs": [],
   "source": [
    "final_state=np.zeros((width,height))\n",
    "# # # 16 random value in the center\n",
    "# #final_state[height//2-2:height//2+2,width//2-2:width//2+2]=10\n",
    "# # one single value in the center\n",
    "# #final_state[height//2,width//2]=10\n",
    "# # 32 random value in the center\n",
    "\n",
    "# final_state[height//2-4:height//2+4,width//2-4:width//2+4]=np.random.random((8,8))*4\n",
    "\n",
    "# make the initial condition a circle (not a disk)\n",
    "\n",
    "for i in range(width):\n",
    "    for j in range(height):\n",
    "        if abs((i-width//2)**2+(j-height//2)**2 -2**11)<10:\n",
    "            final_state[i,j]=10\n",
    "\n",
    "# add a square in the center\n",
    "final_state[height//2-4:height//2+4,width//2-4:width//2+4]=10\n",
    "\n",
    "\n"
   ]
  },
  {
   "cell_type": "code",
   "execution_count": null,
   "metadata": {},
   "outputs": [],
   "source": []
  },
  {
   "cell_type": "code",
   "execution_count": 389,
   "metadata": {},
   "outputs": [],
   "source": [
    "def update_block(block):\n",
    "    # Flatten the block\n",
    "    block = block.flatten()\n",
    "\n",
    "    # Apply the transformation using the matrix\n",
    "    new_block = matrix.dot(block)\n",
    "    # 1/x\n",
    "#    new_block = 1 / new_block\n",
    "  #  new_block = np.tanh(new_block)\n",
    "\n",
    "    # Reshape the block back to 2x2\n",
    "    new_block = new_block.reshape(2, 2)\n",
    "\n",
    "    return new_block"
   ]
  },
  {
   "cell_type": "code",
   "execution_count": 390,
   "metadata": {},
   "outputs": [],
   "source": [
    "def _update( grid, step):\n",
    "    offset = (step % 2)\n",
    "    new_grid = grid.copy()\n",
    "\n",
    "    for i in range(offset, width - 1, 2):\n",
    "        for j in range(offset, height - 1, 2):\n",
    "            block = grid[i:i+2, j:j+2]\n",
    "            new_grid[i:i+2, j:j+2] = update_block(block)\n",
    "    \n",
    "\n",
    "    return new_grid"
   ]
  },
  {
   "cell_type": "code",
   "execution_count": 391,
   "metadata": {},
   "outputs": [],
   "source": [
    "state=final_state.copy()\n",
    "frames=[]"
   ]
  },
  {
   "cell_type": "code",
   "execution_count": 392,
   "metadata": {},
   "outputs": [],
   "source": [
    "# add noise to 1/100 of the cells, other stays the same\n",
    "# for i in range(0, width):\n",
    "#     for j in range(0, height):\n",
    "#         state[i, j] += 0.01*np.random.random()#*state[i, j]\n",
    "\n"
   ]
  },
  {
   "cell_type": "code",
   "execution_count": 393,
   "metadata": {},
   "outputs": [],
   "source": [
    "\n",
    "for i in range(200):\n",
    "    state = _update(state, i) #+1 pour reverse\n",
    "  #  print(state.sum(   ))\n",
    "  # sum of the squares\n",
    "  #  print(np.sum(np.square(state)))\n",
    "    frames.append(np.square(state))"
   ]
  },
  {
   "cell_type": "code",
   "execution_count": null,
   "metadata": {},
   "outputs": [],
   "source": []
  },
  {
   "cell_type": "code",
   "execution_count": 394,
   "metadata": {},
   "outputs": [],
   "source": [
    "\n",
    "from typing import Tuple, List\n",
    "import io\n",
    "import matplotlib\n",
    "import imageio\n",
    "import matplotlib.pyplot as plt\n",
    "from PIL import Image\n",
    "from matplotlib.animation import FuncAnimation\n",
    "\n",
    "\n",
    "def render( data_dict, mode: str = \"PIL_image\") -> Tuple[bytes,str]:\n",
    "    # ignores data_dict, as the render is based on self.orbit\n",
    "    # in which only the last state is stored in data_dict[\"output\"]\n",
    "\n",
    "    colormap = create_colormap(\n",
    "        np.array(\n",
    "            [\n",
    "                [255, 255, 255],\n",
    "                [119, 255, 255],\n",
    "                [23, 223, 252],\n",
    "                [0, 190, 250],\n",
    "                [0, 158, 249],\n",
    "                [0, 142, 249],\n",
    "                [81, 125, 248],\n",
    "                [150, 109, 248],\n",
    "                [192, 77, 247],\n",
    "                [232, 47, 247],\n",
    "                [255, 9, 247],\n",
    "                [200, 0, 84],\n",
    "            ]\n",
    "        )\n",
    "        / 255\n",
    "        * 8\n",
    "    )\n",
    "    im_array = []\n",
    "    for img in frames:\n",
    "        # need to squeeze leading dimensions\n",
    "        parsed_img = img.squeeze()\n",
    "        im = im_from_array_with_colormap(parsed_img, colormap)\n",
    "        im_array.append(im.convert(\"RGB\"))\n",
    "\n",
    "    if mode == \"human\":\n",
    "        matplotlib.use(\"TkAgg\")\n",
    "        fig = plt.figure(figsize=(4, 4))\n",
    "        animation = FuncAnimation(\n",
    "            fig, lambda frame: plt.imshow(frame), frames=im_array\n",
    "        )\n",
    "        plt.axis(\"off\")\n",
    "        plt.tight_layout()\n",
    "        return plt.show()\n",
    "    elif mode == \"PIL_image\":\n",
    "        byte_img = io.BytesIO()\n",
    "        imageio.mimwrite(\n",
    "            byte_img, im_array, \"mp4\", fps=30, output_params=[\"-f\", \"mp4\"]\n",
    "        )\n",
    "        return [(byte_img.getvalue(), \"mp4\")]\n",
    "    else:\n",
    "        raise NotImplementedError\n",
    "\n",
    "\n",
    "\n",
    "\n",
    "def create_colormap(colors: np.ndarray, is_marker_w: bool = True) -> List[int]:\n",
    "\n",
    "    MARKER_COLORS_W = [0x5F, 0x5F, 0x5F, 0x7F, 0x7F, 0x7F, 0xFF, 0xFF, 0xFF]\n",
    "    MARKER_COLORS_B = [0x9F, 0x9F, 0x9F, 0x7F, 0x7F, 0x7F, 0x0F, 0x0F, 0x0F]\n",
    "    nval = 253\n",
    "    ncol = colors.shape[0]\n",
    "    colors = np.vstack((colors, np.array([[0, 0, 0]])))\n",
    "    v = np.repeat(range(nval), 3)  # [0 0 0 1 1 1 ... 252 252 252]\n",
    "    i = np.array(list(range(3)) * nval)  # [0 1 2 0 1 2 ... 0 1 2]\n",
    "    k = v / (nval - 1) * (ncol - 1)  # interpolate between 0 .. ncol-1\n",
    "    k1 = k.astype(int)\n",
    "    c1, c2 = colors[k1, i], colors[k1 + 1, i]\n",
    "    c = (k - k1) * (c2 - c1) + c1  # interpolate between c1 .. c2\n",
    "    return np.rint(c / 8 * 255).astype(int).tolist() + (\n",
    "        MARKER_COLORS_W if is_marker_w else MARKER_COLORS_B\n",
    "    )\n",
    "\n",
    "\n",
    "def im_from_array_with_colormap(np_array: np.ndarray, colormap: List[int]) -> Image:\n",
    "    \"\"\"\n",
    "    Function that transforms the color palette of a PIL image\n",
    "\n",
    "    input:\n",
    "        - image: the PIL image to transform\n",
    "        - colormap: the desired colormap\n",
    "    output: the transformed PIL image\n",
    "    \"\"\"\n",
    "    image_array = np.uint8(np_array.astype(float) * 252.0)\n",
    "    transformed_image = Image.fromarray(image_array)\n",
    "    transformed_image.putpalette(colormap)\n",
    "\n",
    "    return transformed_image\n"
   ]
  },
  {
   "cell_type": "code",
   "execution_count": 395,
   "metadata": {},
   "outputs": [],
   "source": [
    "(bytes_ext)=render(frames,  \"PIL_image\")\n",
    "# show the video here\n",
    "from IPython.display import Video\n",
    "\n",
    "# save video to file\n",
    "with open(\"output.mp4\", \"wb\") as f:\n",
    "    f.write(bytes_ext[0][0])\n"
   ]
  },
  {
   "cell_type": "code",
   "execution_count": null,
   "metadata": {},
   "outputs": [],
   "source": []
  },
  {
   "cell_type": "code",
   "execution_count": null,
   "metadata": {},
   "outputs": [],
   "source": []
  },
  {
   "cell_type": "code",
   "execution_count": null,
   "metadata": {},
   "outputs": [],
   "source": []
  }
 ],
 "metadata": {
  "kernelspec": {
   "display_name": "adtool",
   "language": "python",
   "name": "python3"
  },
  "language_info": {
   "codemirror_mode": {
    "name": "ipython",
    "version": 3
   },
   "file_extension": ".py",
   "mimetype": "text/x-python",
   "name": "python",
   "nbconvert_exporter": "python",
   "pygments_lexer": "ipython3",
   "version": "3.11.9"
  }
 },
 "nbformat": 4,
 "nbformat_minor": 2
}
