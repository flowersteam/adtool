{
 "cells": [
  {
   "cell_type": "code",
   "execution_count": 13,
   "metadata": {},
   "outputs": [
    {
     "name": "stdout",
     "output_type": "stream",
     "text": [
      "14657\n"
     ]
    }
   ],
   "source": [
    "# list all directories in \n",
    "path=\"../../discoveries\"\n",
    "\n",
    "import os\n",
    "import json\n",
    "\n",
    "from PIL import Image\n",
    "import cv2\n",
    "#from pydub import AudioSegment\n",
    "\n",
    "discoveries = []\n",
    "\n",
    "#list all directories in path\n",
    "for root, dirs, files in os.walk(path):\n",
    "    for name in dirs:\n",
    "        discovery={}\n",
    "\n",
    "        #load discovery.json file\n",
    "        with open(os.path.join(root, name, 'discovery.json')) as f:\n",
    "            discovery_details = json.load(f)\n",
    "        \n",
    "        discovery_embedding=discovery_details['output']\n",
    "        \n",
    "        #list all files ending with .json\n",
    "        for file in os.listdir(os.path.join(root, name)):\n",
    "            if file == \"discovery.json\":\n",
    "                discovery['name']=name\n",
    "                discovery['embedding']=discovery_embedding\n",
    "                discoveries.append(discovery)\n",
    "\n",
    "                break\n",
    "\n",
    "print(len(discoveries))"
   ]
  },
  {
   "cell_type": "code",
   "execution_count": 14,
   "metadata": {},
   "outputs": [],
   "source": [
    "import numpy as np\n",
    "X = np.array([discovery['embedding'] for discovery in discoveries])\n",
    "# import umap\n",
    "# reducer = umap.UMAP()\n",
    "# embedding = reducer.fit_transform(X)"
   ]
  },
  {
   "cell_type": "code",
   "execution_count": 15,
   "metadata": {},
   "outputs": [
    {
     "name": "stdout",
     "output_type": "stream",
     "text": [
      "0.007820591708820207\n",
      "7100\n",
      "{'name': '2024-10-19T23:36_exp_0_idx_15_seed_42', 'embedding': [0.9892776835298216, 0.0013876937997388333, 0.0008504638541287589, 0.0005720048899856959, 0.0004365806706304045, 0.0003530314825352423, 0.0002601893775493787, 0.0002478356668804894, 0.00023057693978769726, 0.000260527308057621, 0.0002388532276068022, 0.00023526539103880617, 0.00019011200613902943, 0.00019604724202091565, 0.00019011200613902943, 0.00023526539103880614, 0.0002388532276068022, 0.00026052730805762106, 0.00023057693978769726, 0.0002478356668804893, 0.0002601893775493787, 0.0003530314825352424, 0.0004365806706304045, 0.0005720048899856956, 0.0008504638541287589, 0.001387693799738833]}\n"
     ]
    }
   ],
   "source": [
    "# get the most isolated discovery\n",
    "from sklearn.neighbors import NearestNeighbors\n",
    "nbrs = NearestNeighbors(n_neighbors=2).fit(X)\n",
    "distances, indices = nbrs.kneighbors(X)\n",
    "\n",
    "max_distance = 0\n",
    "max_distance_index = 0\n",
    "for i in range(len(distances)):\n",
    "    if distances[i][1] > max_distance:\n",
    "        max_distance = distances[i][1]\n",
    "        max_distance_index = i\n",
    "\n",
    "print(max_distance)\n",
    "print(max_distance_index)\n",
    "print(discoveries[max_distance_index])"
   ]
  },
  {
   "cell_type": "code",
   "execution_count": 111,
   "metadata": {},
   "outputs": [],
   "source": [
    "discoveries=discoveries"
   ]
  },
  {
   "cell_type": "code",
   "execution_count": 113,
   "metadata": {},
   "outputs": [],
   "source": [
    "#PCA\n",
    "from sklearn.decomposition import PCA\n",
    "pca = PCA(n_components=2)\n",
    "pca.fit(X)\n",
    "embedding = pca.transform(X)\n"
   ]
  },
  {
   "cell_type": "code",
   "execution_count": 114,
   "metadata": {},
   "outputs": [],
   "source": [
    "#TSNE\n",
    "# from sklearn.manifold import TSNE\n",
    "# tsne = TSNE(n_components=2, random_state=0,perplexity= len(discoveries)-1)\n",
    "# embedding = tsne.fit_transform(X)"
   ]
  },
  {
   "cell_type": "code",
   "execution_count": 115,
   "metadata": {},
   "outputs": [],
   "source": [
    "for i, discovery in enumerate(discoveries):\n",
    "    del discovery['embedding']\n",
    "    discovery['x'] = embedding[i][0].item()\n",
    "    discovery['y'] = embedding[i][1].item()"
   ]
  },
  {
   "cell_type": "code",
   "execution_count": 116,
   "metadata": {},
   "outputs": [],
   "source": [
    "#normalize x and y between -1/2 and 1/2\n",
    "min_x = min(discovery['x'] for discovery in discoveries)\n",
    "max_x = max(discovery['x'] for discovery in discoveries)\n",
    "min_y = min(discovery['y'] for discovery in discoveries)\n",
    "max_y = max(discovery['y'] for discovery in discoveries)\n",
    "\n",
    "for discovery in discoveries:\n",
    "    discovery['x'] = (discovery['x'] - min_x) / (max_x - min_x) - 0.5\n",
    "    discovery['y'] = (discovery['y'] - min_y) / (max_y - min_y) - 0.5\n",
    "\n",
    "#normalize x and y between -1 and 1\n",
    "# for discovery in discoveries:\n",
    "#     discovery['x'] = (discovery['x'] - min_x) / (max_x - min_x) * 2 - 1\n",
    "#     discovery['y'] = (discovery['y'] - min_y) / (max_y - min_y) * 2 - 1\n",
    "\n"
   ]
  }
 ],
 "metadata": {
  "kernelspec": {
   "display_name": "adtool",
   "language": "python",
   "name": "python3"
  },
  "language_info": {
   "codemirror_mode": {
    "name": "ipython",
    "version": 3
   },
   "file_extension": ".py",
   "mimetype": "text/x-python",
   "name": "python",
   "nbconvert_exporter": "python",
   "pygments_lexer": "ipython3",
   "version": "3.11.9"
  }
 },
 "nbformat": 4,
 "nbformat_minor": 2
}
