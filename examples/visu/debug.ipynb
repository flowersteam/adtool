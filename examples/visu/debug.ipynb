{
 "cells": [
  {
   "cell_type": "code",
   "execution_count": 110,
   "metadata": {},
   "outputs": [],
   "source": [
    "# list all directories in \n",
    "path=\"discoveries\"\n",
    "\n",
    "import os\n",
    "import json\n",
    "import magic\n",
    "\n",
    "from PIL import Image\n",
    "import cv2\n",
    "#from pydub import AudioSegment\n",
    "\n",
    "discoveries = []\n",
    "\n",
    "#list all directories in path\n",
    "for root, dirs, files in os.walk(path):\n",
    "    for name in dirs:\n",
    "        discovery={}\n",
    "\n",
    "        #load discovery.json file\n",
    "        with open(os.path.join(root, name, 'discovery.json')) as f:\n",
    "            discovery_details = json.load(f)\n",
    "        \n",
    "        discovery_embedding=discovery_details['output']\n",
    "        \n",
    "        #list all files ending with .json\n",
    "        for file in os.listdir(os.path.join(root, name)):\n",
    "            if file.endswith(\".discovery\"):\n",
    "\n",
    "                        \n",
    "\n",
    "                discovery['visual']=os.path.join(root, name, file)\n",
    "                mime = magic.Magic(mime=True)\n",
    "                mimetype = mime.from_file(discovery['visual'])\n",
    "\n",
    "                #if image is detected\n",
    "                if 'image' in mimetype:\n",
    "                    #get img size\n",
    "                    img = Image.open(discovery['visual'])\n",
    "                    img_size = img.size\n",
    "                    discovery['sx']=img_size[0]\n",
    "                    discovery['sy']=img_size[1]\n",
    "                elif 'video' in mimetype:\n",
    "                    #get video size\n",
    "                    video = cv2.VideoCapture(discovery['visual'])\n",
    "                    video_size = int(video.get(cv2.CAP_PROP_FRAME_WIDTH)), int(video.get(cv2.CAP_PROP_FRAME_HEIGHT))\n",
    "                    discovery['sx']=video_size[0]\n",
    "                    discovery['sy']=video_size[1]\n",
    "\n",
    "\n",
    "                discovery['mimetype']=mimetype    \n",
    "                discovery['embedding']=discovery_embedding\n",
    "                discoveries.append(discovery)\n",
    "\n",
    "                break\n"
   ]
  },
  {
   "cell_type": "code",
   "execution_count": 111,
   "metadata": {},
   "outputs": [],
   "source": [
    "discoveries=discoveries"
   ]
  },
  {
   "cell_type": "code",
   "execution_count": 112,
   "metadata": {},
   "outputs": [],
   "source": [
    "\n",
    "\n",
    "import numpy as np\n",
    "X = np.array([discovery['embedding'] for discovery in discoveries])\n",
    "# import umap\n",
    "# reducer = umap.UMAP()\n",
    "# embedding = reducer.fit_transform(X)"
   ]
  },
  {
   "cell_type": "code",
   "execution_count": 113,
   "metadata": {},
   "outputs": [],
   "source": [
    "#PCA\n",
    "from sklearn.decomposition import PCA\n",
    "pca = PCA(n_components=2)\n",
    "pca.fit(X)\n",
    "embedding = pca.transform(X)\n"
   ]
  },
  {
   "cell_type": "code",
   "execution_count": 114,
   "metadata": {},
   "outputs": [],
   "source": [
    "#TSNE\n",
    "# from sklearn.manifold import TSNE\n",
    "# tsne = TSNE(n_components=2, random_state=0,perplexity= len(discoveries)-1)\n",
    "# embedding = tsne.fit_transform(X)"
   ]
  },
  {
   "cell_type": "code",
   "execution_count": 115,
   "metadata": {},
   "outputs": [],
   "source": [
    "for i, discovery in enumerate(discoveries):\n",
    "    del discovery['embedding']\n",
    "    discovery['x'] = embedding[i][0].item()\n",
    "    discovery['y'] = embedding[i][1].item()"
   ]
  },
  {
   "cell_type": "code",
   "execution_count": 116,
   "metadata": {},
   "outputs": [],
   "source": [
    "#normalize x and y between -1/2 and 1/2\n",
    "min_x = min(discovery['x'] for discovery in discoveries)\n",
    "max_x = max(discovery['x'] for discovery in discoveries)\n",
    "min_y = min(discovery['y'] for discovery in discoveries)\n",
    "max_y = max(discovery['y'] for discovery in discoveries)\n",
    "\n",
    "for discovery in discoveries:\n",
    "    discovery['x'] = (discovery['x'] - min_x) / (max_x - min_x) - 0.5\n",
    "    discovery['y'] = (discovery['y'] - min_y) / (max_y - min_y) - 0.5\n",
    "\n",
    "#normalize x and y between -1 and 1\n",
    "# for discovery in discoveries:\n",
    "#     discovery['x'] = (discovery['x'] - min_x) / (max_x - min_x) * 2 - 1\n",
    "#     discovery['y'] = (discovery['y'] - min_y) / (max_y - min_y) * 2 - 1\n",
    "\n"
   ]
  },
  {
   "cell_type": "code",
   "execution_count": 117,
   "metadata": {},
   "outputs": [],
   "source": [
    "with open('discoveries.json', 'w') as f:\n",
    "    json.dump(discoveries, f)"
   ]
  }
 ],
 "metadata": {
  "kernelspec": {
   "display_name": "Python 3",
   "language": "python",
   "name": "python3"
  },
  "language_info": {
   "codemirror_mode": {
    "name": "ipython",
    "version": 3
   },
   "file_extension": ".py",
   "mimetype": "text/x-python",
   "name": "python",
   "nbconvert_exporter": "python",
   "pygments_lexer": "ipython3",
   "version": "3.11.8"
  }
 },
 "nbformat": 4,
 "nbformat_minor": 2
}
