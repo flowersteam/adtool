{
 "cells": [
  {
   "cell_type": "code",
   "execution_count": 28,
   "metadata": {},
   "outputs": [],
   "source": [
    "#SYSTEM \n",
    "import subprocess\n",
    "\n",
    "def run_gnina(protein,ligand,center_x,center_y,center_z,size_x,size_y,size_z):\n",
    "    cmd=[\n",
    "    \"./gnina\",   \n",
    "    #      \"--config\",box_file,\n",
    "                \"--center_x\",str(center_x),\n",
    "    \"--center_y\",str(center_y),\n",
    "    \"--center_z\",str(center_z),\n",
    "    \"--size_x\",str(size_x),\n",
    "    \"--size_y\",str(size_y),\n",
    "    \"--size_z\",str(size_z),\n",
    "    # \"--cnn_center_x\",center_x,\n",
    "    # \"--cnn_center_y\",center_y,\n",
    "    # \"--cnn_center_z\",center_z,\n",
    "    # \"--minimize\", \n",
    "    #      \"--log\",\"test.log\",\n",
    "    \"--num_mc_saved\", str(1),\n",
    "    \"--num_modes\", str(1),  \n",
    "    \"--seed\", str(42),\n",
    "    \"--autobox_extend\", str(1),\n",
    "    \"--exhaustiveness\", str(8),\n",
    "            \"--cnn_scoring\",\"rescore\",\n",
    "            \"--verbosity=0\",\n",
    "    \"-r\", str(protein),\n",
    "    \"-l\", f'ligands/{ligand}.pdb',\n",
    "    \"--out\" , f\"results/{ligand}.pdb\"\n",
    "        ] \n",
    "    result=subprocess.run(cmd,stdout=subprocess.PIPE  )\n",
    "  #  return result.stdout.decode('utf-8')\n",
    "\n",
    "def read_box_file(box_file):\n",
    "    with open(box_file) as f:\n",
    "        lines=f.readlines()\n",
    "    center_x = lines[0].split('=')[1].strip()\n",
    "    center_y = lines[1].split('=')[1].strip()\n",
    "    center_z = lines[2].split('=')[1].strip()\n",
    "    size_x = lines[3].split('=')[1].strip()\n",
    "    size_y = lines[4].split('=')[1].strip()\n",
    "    size_z = lines[5].split('=')[1].strip()\n",
    "    # convert to float\n",
    "    center_x = float(center_x)\n",
    "    center_y = float(center_y)\n",
    "    center_z = float(center_z)\n",
    "    size_x = float(size_x)\n",
    "    size_y = float(size_y)\n",
    "    size_z = float(size_z)\n",
    "    \n",
    "\n",
    "    return center_x,center_y,center_z,size_x,size_y,size_z\n"
   ]
  },
  {
   "cell_type": "code",
   "execution_count": 29,
   "metadata": {},
   "outputs": [],
   "source": [
    "#INIT\n",
    "init_smiles='O=C(C1=CC=CC=C1)NCCN1CCN(CC1)C1=CC=CC=C1'\n",
    "\n",
    "from rdkit import Chem\n",
    "from rdkit.Chem import AllChem\n",
    "\n",
    "m = Chem.MolFromSmiles(init_smiles)\n",
    "m = Chem.AddHs(m)\n",
    "AllChem.EmbedMolecule(m)\n",
    "AllChem.MMFFOptimizeMolecule(m)\n",
    "Chem.MolToPDBFile(m,'ligands/ligand.pdb')"
   ]
  },
  {
   "cell_type": "code",
   "execution_count": 30,
   "metadata": {},
   "outputs": [
    {
     "name": "stderr",
     "output_type": "stream",
     "text": [
      "==============================\n",
      "*** Open Babel Warning  in PerceiveBondOrders\n",
      "  Failed to kekulize aromatic bonds in OBMol::PerceiveBondOrders\n",
      "\n"
     ]
    }
   ],
   "source": [
    "center_x,center_y,center_z,size_x,size_y,size_z=read_box_file('P22680_3V8D_A_box_2.txt')\n",
    "run_gnina('P22680_3V8D_A.pdb','ligand',center_x,center_y,center_z,size_x,size_y,size_z)"
   ]
  },
  {
   "cell_type": "code",
   "execution_count": 31,
   "metadata": {},
   "outputs": [],
   "source": [
    "from plip.structure.preparation import PDBComplex\n",
    "from plip.exchange.report import BindingSiteReport\n",
    "import pandas as pd"
   ]
  },
  {
   "cell_type": "code",
   "execution_count": 193,
   "metadata": {},
   "outputs": [],
   "source": [
    "# INIT DockingStatistics\n",
    "from plip.basic import config\n",
    "from plip.structure.preparation import PDBComplex\n",
    "from Bio.PDB import PDBParser\n",
    "\n",
    "def atoms_in_bounding_box(pdb_file, center, size):\n",
    "    \"\"\"\n",
    "    List all atom indices in a given bounding box defined by its center and size.\n",
    "    \n",
    "    :param pdb_file: Path to the PDB file\n",
    "    :param center: A tuple of coordinates for the bounding box center (center_x, center_y, center_z)\n",
    "    :param size: A tuple of sizes along each axis for the bounding box (size_x, size_y, size_z)\n",
    "    :return: List of atom indices within the bounding box\n",
    "    \"\"\"\n",
    "    center_x, center_y, center_z = center\n",
    "    size_x, size_y, size_z = size\n",
    "    \n",
    "    # Calculate bounding box coordinates\n",
    "    xmin = center_x - size_x / 2\n",
    "    xmax = center_x + size_x / 2\n",
    "    ymin = center_y - size_y / 2\n",
    "    ymax = center_y + size_y / 2\n",
    "    zmin = center_z - size_z / 2\n",
    "    zmax = center_z + size_z / 2\n",
    "    \n",
    "    # Load the PDB file\n",
    "    parser = PDBParser()\n",
    "    structure = parser.get_structure('protein', pdb_file)\n",
    "    \n",
    "    # Iterate through all atoms and check if they lie within the bounding box\n",
    "    atom_indices = []\n",
    "    for model in structure:\n",
    "        for chain in model:\n",
    "            for residue in chain:\n",
    "                for atom in residue:\n",
    "                    # check if it's a carbon atom\n",
    "                    if atom.element != 'C':\n",
    "                        continue\n",
    "                    x, y, z = atom.coord\n",
    "                    if xmin <= x <= xmax and ymin <= y <= ymax and zmin <= z <= zmax:\n",
    "                        atom_indices.append(atom.serial_number)\n",
    "    \n",
    "    return atom_indices\n",
    "\n",
    "# Example usage\n",
    "pdb_file = 'P22680_3V8D_A.pdb'\n",
    "center = (center_x, center_y, center_z)\n",
    "size = (size_x, size_y, size_z)\n",
    "atom_indices = atoms_in_bounding_box(pdb_file, center, size)\n"
   ]
  },
  {
   "cell_type": "code",
   "execution_count": null,
   "metadata": {},
   "outputs": [],
   "source": [
    "#COMPUTE STATISTICS"
   ]
  },
  {
   "cell_type": "code",
   "execution_count": 6,
   "metadata": {},
   "outputs": [
    {
     "name": "stdout",
     "output_type": "stream",
     "text": [
      "Merged results/ligand.pdb and P22680_3V8D_A.pdb into complex.pdb\n"
     ]
    }
   ],
   "source": [
    "def merge_pdb_files_with_hetatm(ligand_file, protein_file, output_file):\n",
    "    # Read the ligand PDB file\n",
    "    with open(ligand_file, 'r') as file:\n",
    "        ligand_content = file.readlines()\n",
    "\n",
    "    # Read the protein PDB file\n",
    "    with open(protein_file, 'r') as file:\n",
    "        protein_content = file.readlines()\n",
    "\n",
    "    # Separate the ATOM and HETATM lines for protein and ligand\n",
    "    protein_atoms = [line for line in protein_content if line.startswith('ATOM')]\n",
    "    protein_hetatms = [line for line in protein_content if line.startswith('HETATM')]\n",
    "    ligand_hetatms = [line for line in ligand_content if line.startswith('HETATM')]\n",
    "\n",
    "    # Add MODEL and ENDMDL lines to the protein content if they don't exist\n",
    "    if not protein_content[0].startswith('MODEL'):\n",
    "        protein_content.insert(0, 'MODEL        1\\n')\n",
    "        protein_content.append('ENDMDL\\n')\n",
    "\n",
    "    # Combine the protein ATOM, protein HETATM, and ligand HETATM contents\n",
    "    combined_content = protein_atoms + protein_hetatms + ligand_hetatms\n",
    "\n",
    "    # Ensure the combined content ends with END line\n",
    "    if not combined_content[-1].strip() == 'END':\n",
    "        combined_content.append('END\\n')\n",
    "\n",
    "    # Write the combined content to the output PDB file\n",
    "    with open(output_file, 'w') as file:\n",
    "        file.writelines(combined_content)\n",
    "\n",
    "\n",
    "# Define the file paths\n",
    "ligand_pdb = 'results/ligand.pdb'\n",
    "protein_pdb = 'P22680_3V8D_A.pdb'\n",
    "complex_pdb = 'complex.pdb'\n",
    "\n",
    "# Merge the PDB files with HETATM separation\n",
    "merge_pdb_files_with_hetatm(ligand_pdb, protein_pdb, complex_pdb)\n",
    "\n",
    "print(f\"Merged {ligand_pdb} and {protein_pdb} into {complex_pdb}\")\n",
    "\n"
   ]
  },
  {
   "cell_type": "code",
   "execution_count": 54,
   "metadata": {},
   "outputs": [],
   "source": [
    "def retrieve_plip_interactions(pdb_file):\n",
    "    \"\"\"\n",
    "    Retrieves the interactions from PLIP.\n",
    "\n",
    "    Parameters\n",
    "    ----------\n",
    "    pdb_file :\n",
    "        The PDB file of the complex.\n",
    "\n",
    "    Returns\n",
    "    -------\n",
    "    dict :\n",
    "        A dictionary of the binding sites and the interactions.\n",
    "    \"\"\"\n",
    "    protlig = PDBComplex()\n",
    "    protlig.load_pdb(pdb_file)  # load the pdb file\n",
    "    for ligand in protlig.ligands:\n",
    "        protlig.characterize_complex(ligand)  # find ligands and analyze interactions\n",
    "\n",
    "    key, site = sorted(protlig.interaction_sets.items())[0]\n",
    "\n",
    "    binding_site = BindingSiteReport(site) \n",
    "\n",
    "    return getattr(binding_site, \"hydrophobic_info\")"
   ]
  },
  {
   "cell_type": "code",
   "execution_count": 68,
   "metadata": {},
   "outputs": [],
   "source": [
    "# 'RESNR',\n",
    "# 'RESTYPE',\n",
    "# 'RESCHAIN',\n",
    "# 'RESNR_LIG',\n",
    "# 'RESTYPE_LIG',\n",
    "# 'RESCHAIN_LIG',\n",
    "# 'DIST',\n",
    "# 'LIGCARBONIDX',\n",
    "# 'PROTCARBONIDX',\n",
    "# 'LIGCOO',\n",
    "# 'PROTCOO'\n",
    "interactions_by_site=retrieve_plip_interactions('complex.pdb')\n",
    "# retrieve PROTCARBONIDX\n",
    "protcarbonidxs=[ i[8] for i in interactions_by_site]\n",
    "dists=[ i[6] for i in interactions_by_site]"
   ]
  },
  {
   "cell_type": "code",
   "execution_count": 75,
   "metadata": {},
   "outputs": [],
   "source": [
    "# internsection with atom_indices\n",
    "statistics=[\n",
    "    1/float(dists[protcarbonidxs.index(a)]) if a in protcarbonidxs else 0\n",
    "    for a in atom_indices\n",
    "]"
   ]
  },
  {
   "cell_type": "code",
   "execution_count": 176,
   "metadata": {},
   "outputs": [
    {
     "name": "stdout",
     "output_type": "stream",
     "text": [
      "[C+1]=[P+1]=[B-1]=O\n"
     ]
    },
    {
     "data": {
      "image/jpeg": "[encoded data removed]",
      "image/png": "[encoded data removed]",
      "text/plain": [
       "<PIL.PngImagePlugin.PngImageFile image mode=RGB size=300x300>"
      ]
     },
     "execution_count": 176,
     "metadata": {},
     "output_type": "execute_result"
    }
   ],
   "source": [
    "import selfies as sf\n",
    "import random\n",
    "\n",
    "alphabet=sf.get_semantic_robust_alphabet() # Gets the alphabet of robust symbols\n",
    "rnd_selfies=''.join(random.choices(list(alphabet), k=100))\n",
    "rnd_smiles=sf.decoder(rnd_selfies)\n",
    "print(rnd_smiles)\n",
    "# plot smiles\n",
    "from rdkit import Chem\n",
    "from rdkit.Chem import Draw\n",
    "m = Chem.MolFromSmiles(rnd_smiles)\n",
    "Draw.MolToImage(m)"
   ]
  },
  {
   "cell_type": "code",
   "execution_count": 140,
   "metadata": {},
   "outputs": [
    {
     "data": {
      "text/plain": [
       "'[C][=C][C][=C][C][=C][Ring1][=Branch1]'"
      ]
     },
     "execution_count": 140,
     "metadata": {},
     "output_type": "execute_result"
    }
   ],
   "source": [
    "sf.encoder(\"C1=CC=CC=C1\")"
   ]
  },
  {
   "cell_type": "code",
   "execution_count": 177,
   "metadata": {},
   "outputs": [],
   "source": [
    "organic_chemistry_probabilities = {\n",
    "    '[#B-1]': 0.01,\n",
    "    '[#B]': 0.02,\n",
    "    '[#Branch1]': 0.05,\n",
    "    '[#Branch2]': 0.03,\n",
    "    '[#Branch3]': 0.02,\n",
    "    '[#C+1]': 0.01,\n",
    "    '[#C-1]': 0.03,\n",
    "    '[#C]': 0.30,\n",
    "    '[#N+1]': 0.01,\n",
    "    '[#N]': 0.05,\n",
    "    '[#O+1]': 0.01,\n",
    "    '[#P+1]': 0.005,\n",
    "    '[#P-1]': 0.005,\n",
    "    '[#P]': 0.02,\n",
    "    '[#S+1]': 0.01,\n",
    "    '[#S-1]': 0.01,\n",
    "    '[#S]': 0.04,\n",
    "    '[=B+1]': 0.005,\n",
    "    '[=B-1]': 0.005,\n",
    "    '[=B]': 0.01,\n",
    "    '[=Branch1]': 0.03,\n",
    "    '[=Branch2]': 0.02,\n",
    "    '[=Branch3]': 0.01,\n",
    "    '[=C+1]': 0.005,\n",
    "    '[=C-1]': 0.01,\n",
    "    '[=C]': 0.25,\n",
    "    '[=N+1]': 0.005,\n",
    "    '[=N-1]': 0.005,\n",
    "    '[=N]': 0.03,\n",
    "    '[=O+1]': 0.005,\n",
    "    '[=O]': 0.02,\n",
    "    '[=P+1]': 0.002,\n",
    "    '[=P-1]': 0.002,\n",
    "    '[=P]': 0.01,\n",
    "    '[=Ring1]': 0.04,\n",
    "    '[=Ring2]': 0.03,\n",
    "    '[=Ring3]': 0.02,\n",
    "    '[=S+1]': 0.005,\n",
    "    '[=S-1]': 0.005,\n",
    "    '[=S]': 0.03,\n",
    "    '[B+1]': 0.005,\n",
    "    '[B-1]': 0.01,\n",
    "    '[B]': 0.02,\n",
    "    '[Br]': 0.02,\n",
    "    '[Branch1]': 0.04,\n",
    "    '[Branch2]': 0.03,\n",
    "    '[Branch3]': 0.02,\n",
    "    '[C+1]': 0.01,\n",
    "    '[C-1]': 0.03,\n",
    "    '[C]': 0.40,\n",
    "    '[Cl]': 0.03,\n",
    "    '[F]': 0.02,\n",
    "    '[H]': 0.50,\n",
    "    '[I]': 0.01,\n",
    "    '[N+1]': 0.01,\n",
    "    '[N-1]': 0.01,\n",
    "    '[N]': 0.07,\n",
    "    '[O+1]': 0.005,\n",
    "    '[O-1]': 0.01,\n",
    "    '[O]': 0.10,\n",
    "    '[P+1]': 0.002,\n",
    "    '[P-1]': 0.002,\n",
    "    '[P]': 0.01,\n",
    "    '[Ring1]': 0.05,\n",
    "    '[Ring2]': 0.03,\n",
    "    '[Ring3]': 0.02,\n",
    "    '[S+1]': 0.005,\n",
    "    '[S-1]': 0.005,\n",
    "    '[S]': 0.04\n",
    "}\n"
   ]
  },
  {
   "cell_type": "code",
   "execution_count": 178,
   "metadata": {},
   "outputs": [],
   "source": [
    "# sum of probabilities\n",
    "sum_prob=sum(organic_chemistry_probabilities.values())"
   ]
  },
  {
   "cell_type": "code",
   "execution_count": 180,
   "metadata": {},
   "outputs": [],
   "source": [
    "# normalize\n",
    "for k,v in organic_chemistry_probabilities.items():\n",
    "    organic_chemistry_probabilities[k]=v/sum_prob"
   ]
  },
  {
   "cell_type": "code",
   "execution_count": null,
   "metadata": {},
   "outputs": [],
   "source": []
  },
  {
   "cell_type": "code",
   "execution_count": 185,
   "metadata": {},
   "outputs": [],
   "source": [
    "chemical_space = [\n",
    "    ('[#B-1]', 0.0037064492216456668),\n",
    "    ('[#B]', 0.0074128984432913336),\n",
    "    ('[#Branch1]', 0.018532246108228335),\n",
    "    ('[#Branch2]', 0.011119347664937),\n",
    "    ('[#Branch3]', 0.0074128984432913336),\n",
    "    ('[#C+1]', 0.0037064492216456668),\n",
    "    ('[#C-1]', 0.011119347664937),\n",
    "    ('[#C]', 0.11119347664936999),\n",
    "    ('[#N+1]', 0.0037064492216456668),\n",
    "    ('[#N]', 0.018532246108228335),\n",
    "    ('[#O+1]', 0.0037064492216456668),\n",
    "    ('[#P+1]', 0.0018532246108228334),\n",
    "    ('[#P-1]', 0.0018532246108228334),\n",
    "    ('[#P]', 0.0074128984432913336),\n",
    "    ('[#S+1]', 0.0037064492216456668),\n",
    "    ('[#S-1]', 0.0037064492216456668),\n",
    "    ('[#S]', 0.014825796886582667),\n",
    "    ('[=B+1]', 0.0018532246108228334),\n",
    "    ('[=B-1]', 0.0018532246108228334),\n",
    "    ('[=B]', 0.0037064492216456668),\n",
    "    ('[=Branch1]', 0.011119347664937),\n",
    "    ('[=Branch2]', 0.0074128984432913336),\n",
    "    ('[=Branch3]', 0.0037064492216456668),\n",
    "    ('[=C+1]', 0.0018532246108228334),\n",
    "    ('[=C-1]', 0.0037064492216456668),\n",
    "    ('[=C]', 0.09266123054114167),\n",
    "    ('[=N+1]', 0.0018532246108228334),\n",
    "    ('[=N-1]', 0.0018532246108228334),\n",
    "    ('[=N]', 0.011119347664937),\n",
    "    ('[=O+1]', 0.0018532246108228334),\n",
    "    ('[=O]', 0.0074128984432913336),\n",
    "    ('[=P+1]', 0.0007412898443291333),\n",
    "    ('[=P-1]', 0.0007412898443291333),\n",
    "    ('[=P]', 0.0037064492216456668),\n",
    "    ('[=Ring1]', 0.014825796886582667),\n",
    "    ('[=Ring2]', 0.011119347664937),\n",
    "    ('[=Ring3]', 0.0074128984432913336),\n",
    "    ('[=S+1]', 0.0018532246108228334),\n",
    "    ('[=S-1]', 0.0018532246108228334),\n",
    "    ('[=S]', 0.011119347664937),\n",
    "    ('[B+1]', 0.0018532246108228334),\n",
    "    ('[B-1]', 0.0037064492216456668),\n",
    "    ('[B]', 0.0074128984432913336),\n",
    "    ('[Br]', 0.0074128984432913336),\n",
    "    ('[Branch1]', 0.014825796886582667),\n",
    "    ('[Branch2]', 0.011119347664937),\n",
    "    ('[Branch3]', 0.0074128984432913336),\n",
    "    ('[C+1]', 0.0037064492216456668),\n",
    "    ('[C-1]', 0.011119347664937),\n",
    "    ('[C]', 0.14825796886582668),\n",
    "    ('[Cl]', 0.011119347664937),\n",
    "    ('[F]', 0.0074128984432913336),\n",
    "    ('[H]', 0.18532246108228334),\n",
    "    ('[I]', 0.0037064492216456668),\n",
    "    ('[N+1]', 0.0037064492216456668),\n",
    "    ('[N-1]', 0.0037064492216456668),\n",
    "    ('[N]', 0.02594514455151967),\n",
    "    ('[O+1]', 0.0018532246108228334),\n",
    "    ('[O-1]', 0.0037064492216456668),\n",
    "    ('[O]', 0.03706449221645667),\n",
    "    ('[P+1]', 0.0007412898443291333),\n",
    "    ('[P-1]', 0.0007412898443291333),\n",
    "    ('[P]', 0.0037064492216456668),\n",
    "    ('[Ring1]', 0.018532246108228335),\n",
    "    ('[Ring2]', 0.011119347664937),\n",
    "    ('[Ring3]', 0.0074128984432913336),\n",
    "    ('[S+1]', 0.0018532246108228334),\n",
    "    ('[S-1]', 0.0018532246108228334),\n",
    "    ('[S]', 0.014825796886582667)\n",
    "]"
   ]
  },
  {
   "cell_type": "code",
   "execution_count": 189,
   "metadata": {},
   "outputs": [
    {
     "data": {
      "text/plain": [
       "'[=C]'"
      ]
     },
     "execution_count": 189,
     "metadata": {},
     "output_type": "execute_result"
    }
   ],
   "source": [
    "np.random.choice( \n",
    "            [x[0] for x in chemical_space], p=[x[1] for x in chemical_space]\n",
    "        )"
   ]
  },
  {
   "cell_type": "code",
   "execution_count": 190,
   "metadata": {},
   "outputs": [],
   "source": [
    "from plip.structure.preparation import PDBComplex\n",
    "\n",
    "my_mol = PDBComplex()\n",
    "\n",
    "\n"
   ]
  },
  {
   "cell_type": "code",
   "execution_count": 192,
   "metadata": {},
   "outputs": [
    {
     "data": {
      "text/plain": [
       "['Mapper',\n",
       " '__class__',\n",
       " '__delattr__',\n",
       " '__dict__',\n",
       " '__dir__',\n",
       " '__doc__',\n",
       " '__eq__',\n",
       " '__format__',\n",
       " '__ge__',\n",
       " '__getattribute__',\n",
       " '__getstate__',\n",
       " '__gt__',\n",
       " '__hash__',\n",
       " '__init__',\n",
       " '__init_subclass__',\n",
       " '__le__',\n",
       " '__lt__',\n",
       " '__module__',\n",
       " '__ne__',\n",
       " '__new__',\n",
       " '__reduce__',\n",
       " '__reduce_ex__',\n",
       " '__repr__',\n",
       " '__setattr__',\n",
       " '__sizeof__',\n",
       " '__str__',\n",
       " '__subclasshook__',\n",
       " '__weakref__',\n",
       " '_output_path',\n",
       " 'altconf',\n",
       " 'analyze',\n",
       " 'atoms',\n",
       " 'characterize_complex',\n",
       " 'corrected_pdb',\n",
       " 'covalent',\n",
       " 'excluded',\n",
       " 'extract_bs',\n",
       " 'filetype',\n",
       " 'get_atom',\n",
       " 'information',\n",
       " 'interaction_sets',\n",
       " 'ligands',\n",
       " 'load_pdb',\n",
       " 'modres',\n",
       " 'output_path',\n",
       " 'protcomplex',\n",
       " 'pymol_name',\n",
       " 'res_belongs_to_bs',\n",
       " 'resis',\n",
       " 'sourcefiles']"
      ]
     },
     "execution_count": 192,
     "metadata": {},
     "output_type": "execute_result"
    }
   ],
   "source": [
    "dir(my_mol)"
   ]
  },
  {
   "cell_type": "code",
   "execution_count": null,
   "metadata": {},
   "outputs": [],
   "source": []
  }
 ],
 "metadata": {
  "kernelspec": {
   "display_name": "adtool",
   "language": "python",
   "name": "python3"
  },
  "language_info": {
   "codemirror_mode": {
    "name": "ipython",
    "version": 3
   },
   "file_extension": ".py",
   "mimetype": "text/x-python",
   "name": "python",
   "nbconvert_exporter": "python",
   "pygments_lexer": "ipython3",
   "version": "3.11.9"
  }
 },
 "nbformat": 4,
 "nbformat_minor": 2
}
