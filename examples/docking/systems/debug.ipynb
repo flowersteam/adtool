{
 "cells": [
  {
   "cell_type": "code",
   "execution_count": 28,
   "metadata": {},
   "outputs": [],
   "source": [
    "#SYSTEM \n",
    "import subprocess\n",
    "\n",
    "def run_gnina(protein,ligand,center_x,center_y,center_z,size_x,size_y,size_z):\n",
    "    cmd=[\n",
    "    \"./gnina\",   \n",
    "    #      \"--config\",box_file,\n",
    "                \"--center_x\",str(center_x),\n",
    "    \"--center_y\",str(center_y),\n",
    "    \"--center_z\",str(center_z),\n",
    "    \"--size_x\",str(size_x),\n",
    "    \"--size_y\",str(size_y),\n",
    "    \"--size_z\",str(size_z),\n",
    "    # \"--cnn_center_x\",center_x,\n",
    "    # \"--cnn_center_y\",center_y,\n",
    "    # \"--cnn_center_z\",center_z,\n",
    "    # \"--minimize\", \n",
    "    #      \"--log\",\"test.log\",\n",
    "    \"--num_mc_saved\", str(1),\n",
    "    \"--num_modes\", str(1),  \n",
    "    \"--seed\", str(42),\n",
    "    \"--autobox_extend\", str(1),\n",
    "    \"--exhaustiveness\", str(8),\n",
    "            \"--cnn_scoring\",\"rescore\",\n",
    "            \"--verbosity=0\",\n",
    "    \"-r\", str(protein),\n",
    "    \"-l\", f'ligands/{ligand}.pdb',\n",
    "    \"--out\" , f\"results/{ligand}.pdb\"\n",
    "        ] \n",
    "    result=subprocess.run(cmd,stdout=subprocess.PIPE  )\n",
    "  #  return result.stdout.decode('utf-8')\n",
    "\n",
    "def read_box_file(box_file):\n",
    "    with open(box_file) as f:\n",
    "        lines=f.readlines()\n",
    "    center_x = lines[0].split('=')[1].strip()\n",
    "    center_y = lines[1].split('=')[1].strip()\n",
    "    center_z = lines[2].split('=')[1].strip()\n",
    "    size_x = lines[3].split('=')[1].strip()\n",
    "    size_y = lines[4].split('=')[1].strip()\n",
    "    size_z = lines[5].split('=')[1].strip()\n",
    "    # convert to float\n",
    "    center_x = float(center_x)\n",
    "    center_y = float(center_y)\n",
    "    center_z = float(center_z)\n",
    "    size_x = float(size_x)\n",
    "    size_y = float(size_y)\n",
    "    size_z = float(size_z)\n",
    "    \n",
    "\n",
    "    return center_x,center_y,center_z,size_x,size_y,size_z\n"
   ]
  },
  {
   "cell_type": "code",
   "execution_count": 29,
   "metadata": {},
   "outputs": [],
   "source": [
    "#INIT\n",
    "init_smiles='O=C(C1=CC=CC=C1)NCCN1CCN(CC1)C1=CC=CC=C1'\n",
    "\n",
    "from rdkit import Chem\n",
    "from rdkit.Chem import AllChem\n",
    "\n",
    "m = Chem.MolFromSmiles(init_smiles)\n",
    "m = Chem.AddHs(m)\n",
    "AllChem.EmbedMolecule(m)\n",
    "AllChem.MMFFOptimizeMolecule(m)\n",
    "Chem.MolToPDBFile(m,'ligands/ligand.pdb')"
   ]
  },
  {
   "cell_type": "code",
   "execution_count": 30,
   "metadata": {},
   "outputs": [
    {
     "name": "stderr",
     "output_type": "stream",
     "text": [
      "==============================\n",
      "*** Open Babel Warning  in PerceiveBondOrders\n",
      "  Failed to kekulize aromatic bonds in OBMol::PerceiveBondOrders\n",
      "\n"
     ]
    }
   ],
   "source": [
    "center_x,center_y,center_z,size_x,size_y,size_z=read_box_file('P22680_3V8D_A_box_2.txt')\n",
    "run_gnina('P22680_3V8D_A.pdb','ligand',center_x,center_y,center_z,size_x,size_y,size_z)"
   ]
  },
  {
   "cell_type": "code",
   "execution_count": 31,
   "metadata": {},
   "outputs": [],
   "source": [
    "from plip.structure.preparation import PDBComplex\n",
    "from plip.exchange.report import BindingSiteReport\n",
    "import pandas as pd"
   ]
  },
  {
   "cell_type": "code",
   "execution_count": 193,
   "metadata": {},
   "outputs": [],
   "source": [
    "# INIT DockingStatistics\n",
    "from plip.basic import config\n",
    "from plip.structure.preparation import PDBComplex\n",
    "from Bio.PDB import PDBParser\n",
    "\n",
    "def atoms_in_bounding_box(pdb_file, center, size):\n",
    "    \"\"\"\n",
    "    List all atom indices in a given bounding box defined by its center and size.\n",
    "    \n",
    "    :param pdb_file: Path to the PDB file\n",
    "    :param center: A tuple of coordinates for the bounding box center (center_x, center_y, center_z)\n",
    "    :param size: A tuple of sizes along each axis for the bounding box (size_x, size_y, size_z)\n",
    "    :return: List of atom indices within the bounding box\n",
    "    \"\"\"\n",
    "    center_x, center_y, center_z = center\n",
    "    size_x, size_y, size_z = size\n",
    "    \n",
    "    # Calculate bounding box coordinates\n",
    "    xmin = center_x - size_x / 2\n",
    "    xmax = center_x + size_x / 2\n",
    "    ymin = center_y - size_y / 2\n",
    "    ymax = center_y + size_y / 2\n",
    "    zmin = center_z - size_z / 2\n",
    "    zmax = center_z + size_z / 2\n",
    "    \n",
    "    # Load the PDB file\n",
    "    parser = PDBParser()\n",
    "    structure = parser.get_structure('protein', pdb_file)\n",
    "    \n",
    "    # Iterate through all atoms and check if they lie within the bounding box\n",
    "    atom_indices = []\n",
    "    for model in structure:\n",
    "        for chain in model:\n",
    "            for residue in chain:\n",
    "                for atom in residue:\n",
    "                    # check if it's a carbon atom\n",
    "                    if atom.element != 'C':\n",
    "                        continue\n",
    "                    x, y, z = atom.coord\n",
    "                    if xmin <= x <= xmax and ymin <= y <= ymax and zmin <= z <= zmax:\n",
    "                        atom_indices.append(atom.serial_number)\n",
    "    \n",
    "    return atom_indices\n",
    "\n",
    "# Example usage\n",
    "pdb_file = 'P22680_3V8D_A.pdb'\n",
    "center = (center_x, center_y, center_z)\n",
    "size = (size_x, size_y, size_z)\n",
    "atom_indices = atoms_in_bounding_box(pdb_file, center, size)\n"
   ]
  },
  {
   "cell_type": "code",
   "execution_count": null,
   "metadata": {},
   "outputs": [],
   "source": [
    "#COMPUTE STATISTICS"
   ]
  },
  {
   "cell_type": "code",
   "execution_count": 6,
   "metadata": {},
   "outputs": [
    {
     "name": "stdout",
     "output_type": "stream",
     "text": [
      "Merged results/ligand.pdb and P22680_3V8D_A.pdb into complex.pdb\n"
     ]
    }
   ],
   "source": [
    "def merge_pdb_files_with_hetatm(ligand_file, protein_file, output_file):\n",
    "    # Read the ligand PDB file\n",
    "    with open(ligand_file, 'r') as file:\n",
    "        ligand_content = file.readlines()\n",
    "\n",
    "    # Read the protein PDB file\n",
    "    with open(protein_file, 'r') as file:\n",
    "        protein_content = file.readlines()\n",
    "\n",
    "    # Separate the ATOM and HETATM lines for protein and ligand\n",
    "    protein_atoms = [line for line in protein_content if line.startswith('ATOM')]\n",
    "    protein_hetatms = [line for line in protein_content if line.startswith('HETATM')]\n",
    "    ligand_hetatms = [line for line in ligand_content if line.startswith('HETATM')]\n",
    "\n",
    "    # Add MODEL and ENDMDL lines to the protein content if they don't exist\n",
    "    if not protein_content[0].startswith('MODEL'):\n",
    "        protein_content.insert(0, 'MODEL        1\\n')\n",
    "        protein_content.append('ENDMDL\\n')\n",
    "\n",
    "    # Combine the protein ATOM, protein HETATM, and ligand HETATM contents\n",
    "    combined_content = protein_atoms + protein_hetatms + ligand_hetatms\n",
    "\n",
    "    # Ensure the combined content ends with END line\n",
    "    if not combined_content[-1].strip() == 'END':\n",
    "        combined_content.append('END\\n')\n",
    "\n",
    "    # Write the combined content to the output PDB file\n",
    "    with open(output_file, 'w') as file:\n",
    "        file.writelines(combined_content)\n",
    "\n",
    "\n",
    "# Define the file paths\n",
    "ligand_pdb = 'results/ligand.pdb'\n",
    "protein_pdb = 'P22680_3V8D_A.pdb'\n",
    "complex_pdb = 'complex.pdb'\n",
    "\n",
    "# Merge the PDB files with HETATM separation\n",
    "merge_pdb_files_with_hetatm(ligand_pdb, protein_pdb, complex_pdb)\n",
    "\n",
    "print(f\"Merged {ligand_pdb} and {protein_pdb} into {complex_pdb}\")\n",
    "\n"
   ]
  },
  {
   "cell_type": "code",
   "execution_count": 54,
   "metadata": {},
   "outputs": [],
   "source": [
    "def retrieve_plip_interactions(pdb_file):\n",
    "    \"\"\"\n",
    "    Retrieves the interactions from PLIP.\n",
    "\n",
    "    Parameters\n",
    "    ----------\n",
    "    pdb_file :\n",
    "        The PDB file of the complex.\n",
    "\n",
    "    Returns\n",
    "    -------\n",
    "    dict :\n",
    "        A dictionary of the binding sites and the interactions.\n",
    "    \"\"\"\n",
    "    protlig = PDBComplex()\n",
    "    protlig.load_pdb(pdb_file)  # load the pdb file\n",
    "    for ligand in protlig.ligands:\n",
    "        protlig.characterize_complex(ligand)  # find ligands and analyze interactions\n",
    "\n",
    "    key, site = sorted(protlig.interaction_sets.items())[0]\n",
    "\n",
    "    binding_site = BindingSiteReport(site) \n",
    "\n",
    "    return getattr(binding_site, \"hydrophobic_info\")"
   ]
  },
  {
   "cell_type": "code",
   "execution_count": 68,
   "metadata": {},
   "outputs": [],
   "source": [
    "# 'RESNR',\n",
    "# 'RESTYPE',\n",
    "# 'RESCHAIN',\n",
    "# 'RESNR_LIG',\n",
    "# 'RESTYPE_LIG',\n",
    "# 'RESCHAIN_LIG',\n",
    "# 'DIST',\n",
    "# 'LIGCARBONIDX',\n",
    "# 'PROTCARBONIDX',\n",
    "# 'LIGCOO',\n",
    "# 'PROTCOO'\n",
    "interactions_by_site=retrieve_plip_interactions('complex.pdb')\n",
    "# retrieve PROTCARBONIDX\n",
    "protcarbonidxs=[ i[8] for i in interactions_by_site]\n",
    "dists=[ i[6] for i in interactions_by_site]"
   ]
  },
  {
   "cell_type": "code",
   "execution_count": 75,
   "metadata": {},
   "outputs": [],
   "source": [
    "# internsection with atom_indices\n",
    "statistics=[\n",
    "    1/float(dists[protcarbonidxs.index(a)]) if a in protcarbonidxs else 0\n",
    "    for a in atom_indices\n",
    "]"
   ]
  },
  {
   "cell_type": "code",
   "execution_count": 176,
   "metadata": {},
   "outputs": [
    {
     "name": "stdout",
     "output_type": "stream",
     "text": [
      "[C+1]=[P+1]=[B-1]=O\n"
     ]
    },
    {
     "data": {
      "image/jpeg": "[encoded data removed]",
      "image/png": "[encoded data removed]",
      "text/plain": [
       "<PIL.PngImagePlugin.PngImageFile image mode=RGB size=300x300>"
      ]
     },
     "execution_count": 176,
     "metadata": {},
     "output_type": "execute_result"
    }
   ],
   "source": [
    "import selfies as sf\n",
    "import random\n",
    "\n",
    "alphabet=sf.get_semantic_robust_alphabet() # Gets the alphabet of robust symbols\n",
    "rnd_selfies=''.join(random.choices(list(alphabet), k=100))\n",
    "rnd_smiles=sf.decoder(rnd_selfies)\n",
    "print(rnd_smiles)\n",
    "# plot smiles\n",
    "from rdkit import Chem\n",
    "from rdkit.Chem import Draw\n",
    "m = Chem.MolFromSmiles(rnd_smiles)\n",
    "Draw.MolToImage(m)"
   ]
  },
  {
   "cell_type": "code",
   "execution_count": 140,
   "metadata": {},
   "outputs": [
    {
     "data": {
      "text/plain": [
       "'[C][=C][C][=C][C][=C][Ring1][=Branch1]'"
      ]
     },
     "execution_count": 140,
     "metadata": {},
     "output_type": "execute_result"
    }
   ],
   "source": [
    "sf.encoder(\"C1=CC=CC=C1\")"
   ]
  },
  {
   "cell_type": "code",
   "execution_count": 15,
   "metadata": {},
   "outputs": [],
   "source": [
    "chemical_space = [\n",
    "    # ('[#B-1]', 0.0001),  # Very rare\n",
    "    # ('[#B]', 0.0005),    # Rare\n",
    "    # ('[#Branch1]', 0.05),\n",
    "    # ('[#Branch2]', 0.03),\n",
    "    # ('[#Branch3]', 0.01),\n",
    "    # ('[#C+1]', 0.0001),  # Very rare\n",
    "    # ('[#C-1]', 0.0001),  # Very rare\n",
    "    # ('[#C]', 0.005),     # Triple bond, rare in organic chemistry\n",
    "    # ('[#N+1]', 0.0005),  # Rare\n",
    "    # ('[#N]', 0.01),      # Triple-bonded nitrogen, not very common\n",
    "    # ('[#O+1]', 0.0001),  # Very rare\n",
    "    # ('[#P+1]', 0.00005), # Extremely rare\n",
    "    # ('[#P-1]', 0.00005), # Extremely rare\n",
    "    # ('[#P]', 0.0001),    # Very rare\n",
    "    # ('[#S+1]', 0.0001),  # Very rare\n",
    "    # ('[#S-1]', 0.0001),  # Very rare\n",
    "    # ('[#S]', 0.0005),    # Rare\n",
    "    ('[=B+1]', 0.00001), # Extremely rare\n",
    "    ('[=B-1]', 0.00001), # Extremely rare\n",
    "    ('[=B]', 0.0001),    # Very rare\n",
    "    ('[=Branch1]', 0.04),\n",
    "    ('[=Branch2]', 0.02),\n",
    "    ('[=Branch3]', 0.005),\n",
    "    ('[=C+1]', 0.0001),  # Very rare\n",
    "    ('[=C-1]', 0.0001),  # Very rare\n",
    "    ('[=C]', 0.15),      # Double-bonded carbon, common\n",
    "    ('[=N+1]', 0.0005),  # Rare\n",
    "    ('[=N-1]', 0.0005),  # Rare\n",
    "    ('[=N]', 0.03),      # Double-bonded nitrogen, fairly common\n",
    "    ('[=O+1]', 0.0001),  # Very rare\n",
    "    ('[=O]', 0.1),       # Carbonyl group, very common\n",
    "    ('[=P+1]', 0.00001), # Extremely rare\n",
    "    ('[=P-1]', 0.00001), # Extremely rare\n",
    "    ('[=P]', 0.0005),    # Rare\n",
    "    ('[=Ring1]', 0.08),\n",
    "    ('[=Ring2]', 0.05),\n",
    "    ('[=Ring3]', 0.02),\n",
    "    ('[=S+1]', 0.0001),  # Very rare\n",
    "    ('[=S-1]', 0.0001),  # Very rare\n",
    "    ('[=S]', 0.01),      # Not very common\n",
    "    ('[B+1]', 0.00005),  # Extremely rare\n",
    "    ('[B-1]', 0.00005),  # Extremely rare\n",
    "    ('[B]', 0.0005),     # Rare\n",
    "    ('[Br]', 0.01),      # Not very common\n",
    "    ('[Branch1]', 0.1),\n",
    "    ('[Branch2]', 0.05),\n",
    "    ('[Branch3]', 0.02),\n",
    "    ('[C+1]', 0.0005),   # Rare\n",
    "    ('[C-1]', 0.0005),   # Rare\n",
    "    ('[C]', 0.25),       # Single-bonded carbon, very common\n",
    "    ('[Cl]', 0.02),      # Fairly common\n",
    "    ('[F]', 0.015),      # Fairly common\n",
    "    ('[H]', 0.3),        # Most common, present in almost all organic molecules\n",
    "    ('[I]', 0.005),      # Less common than other halogens\n",
    "    ('[N+1]', 0.005),    # Not very common\n",
    "    ('[N-1]', 0.005),    # Not very common\n",
    "    ('[N]', 0.08),       # Common in organic molecules\n",
    "    ('[O+1]', 0.0001),   # Very rare\n",
    "    ('[O-1]', 0.005),    # Not very common\n",
    "    ('[O]', 0.15),       # Very common in organic molecules\n",
    "    ('[P+1]', 0.00001),  # Extremely rare\n",
    "    ('[P-1]', 0.00001),  # Extremely rare\n",
    "    ('[P]', 0.005),      # Not very common\n",
    "    ('[Ring1]', 0.1),\n",
    "    ('[Ring2]', 0.06),\n",
    "    ('[Ring3]', 0.03),\n",
    "    ('[S+1]', 0.0005),   # Rare\n",
    "    ('[S-1]', 0.0005),   # Rare\n",
    "    ('[S]', 0.02)        # Fairly common in organic molecules\n",
    "]"
   ]
  },
  {
   "cell_type": "code",
   "execution_count": 16,
   "metadata": {},
   "outputs": [],
   "source": [
    "# sum of probabilities\n",
    "total_prob=sum([p for _,p in chemical_space])"
   ]
  },
  {
   "cell_type": "code",
   "execution_count": 17,
   "metadata": {},
   "outputs": [],
   "source": [
    "# normalize\n",
    "chemical_space=[\n",
    "    (s,p/total_prob) for s,p in chemical_space\n",
    "]"
   ]
  },
  {
   "cell_type": "code",
   "execution_count": 18,
   "metadata": {},
   "outputs": [
    {
     "data": {
      "text/plain": [
       "[('[=B+1]', 5.747588886462131e-06),\n",
       " ('[=B-1]', 5.747588886462131e-06),\n",
       " ('[=B]', 5.747588886462131e-05),\n",
       " ('[=Branch1]', 0.022990355545848523),\n",
       " ('[=Branch2]', 0.011495177772924262),\n",
       " ('[=Branch3]', 0.0028737944432310654),\n",
       " ('[=C+1]', 5.747588886462131e-05),\n",
       " ('[=C-1]', 5.747588886462131e-05),\n",
       " ('[=C]', 0.08621383329693195),\n",
       " ('[=N+1]', 0.00028737944432310656),\n",
       " ('[=N-1]', 0.00028737944432310656),\n",
       " ('[=N]', 0.017242766659386392),\n",
       " ('[=O+1]', 5.747588886462131e-05),\n",
       " ('[=O]', 0.05747588886462131),\n",
       " ('[=P+1]', 5.747588886462131e-06),\n",
       " ('[=P-1]', 5.747588886462131e-06),\n",
       " ('[=P]', 0.00028737944432310656),\n",
       " ('[=Ring1]', 0.045980711091697046),\n",
       " ('[=Ring2]', 0.028737944432310654),\n",
       " ('[=Ring3]', 0.011495177772924262),\n",
       " ('[=S+1]', 5.747588886462131e-05),\n",
       " ('[=S-1]', 5.747588886462131e-05),\n",
       " ('[=S]', 0.005747588886462131),\n",
       " ('[B+1]', 2.8737944432310656e-05),\n",
       " ('[B-1]', 2.8737944432310656e-05),\n",
       " ('[B]', 0.00028737944432310656),\n",
       " ('[Br]', 0.005747588886462131),\n",
       " ('[Branch1]', 0.05747588886462131),\n",
       " ('[Branch2]', 0.028737944432310654),\n",
       " ('[Branch3]', 0.011495177772924262),\n",
       " ('[C+1]', 0.00028737944432310656),\n",
       " ('[C-1]', 0.00028737944432310656),\n",
       " ('[C]', 0.14368972216155326),\n",
       " ('[Cl]', 0.011495177772924262),\n",
       " ('[F]', 0.008621383329693196),\n",
       " ('[H]', 0.1724276665938639),\n",
       " ('[I]', 0.0028737944432310654),\n",
       " ('[N+1]', 0.0028737944432310654),\n",
       " ('[N-1]', 0.0028737944432310654),\n",
       " ('[N]', 0.045980711091697046),\n",
       " ('[O+1]', 5.747588886462131e-05),\n",
       " ('[O-1]', 0.0028737944432310654),\n",
       " ('[O]', 0.08621383329693195),\n",
       " ('[P+1]', 5.747588886462131e-06),\n",
       " ('[P-1]', 5.747588886462131e-06),\n",
       " ('[P]', 0.0028737944432310654),\n",
       " ('[Ring1]', 0.05747588886462131),\n",
       " ('[Ring2]', 0.034485533318772785),\n",
       " ('[Ring3]', 0.017242766659386392),\n",
       " ('[S+1]', 0.00028737944432310656),\n",
       " ('[S-1]', 0.00028737944432310656),\n",
       " ('[S]', 0.011495177772924262)]"
      ]
     },
     "execution_count": 18,
     "metadata": {},
     "output_type": "execute_result"
    }
   ],
   "source": [
    "chemical_space"
   ]
  },
  {
   "cell_type": "code",
   "execution_count": 185,
   "metadata": {},
   "outputs": [],
   "source": [
    "chemical_space = [\n",
    "    ('[#B-1]', 0.0037064492216456668),\n",
    "    ('[#B]', 0.0074128984432913336),\n",
    "    ('[#Branch1]', 0.018532246108228335),\n",
    "    ('[#Branch2]', 0.011119347664937),\n",
    "    ('[#Branch3]', 0.0074128984432913336),\n",
    "    ('[#C+1]', 0.0037064492216456668),\n",
    "    ('[#C-1]', 0.011119347664937),\n",
    "    ('[#C]', 0.11119347664936999),\n",
    "    ('[#N+1]', 0.0037064492216456668),\n",
    "    ('[#N]', 0.018532246108228335),\n",
    "    ('[#O+1]', 0.0037064492216456668),\n",
    "    ('[#P+1]', 0.0018532246108228334),\n",
    "    ('[#P-1]', 0.0018532246108228334),\n",
    "    ('[#P]', 0.0074128984432913336),\n",
    "    ('[#S+1]', 0.0037064492216456668),\n",
    "    ('[#S-1]', 0.0037064492216456668),\n",
    "    ('[#S]', 0.014825796886582667),\n",
    "    ('[=B+1]', 0.0018532246108228334),\n",
    "    ('[=B-1]', 0.0018532246108228334),\n",
    "    ('[=B]', 0.0037064492216456668),\n",
    "    ('[=Branch1]', 0.011119347664937),\n",
    "    ('[=Branch2]', 0.0074128984432913336),\n",
    "    ('[=Branch3]', 0.0037064492216456668),\n",
    "    ('[=C+1]', 0.0018532246108228334),\n",
    "    ('[=C-1]', 0.0037064492216456668),\n",
    "    ('[=C]', 0.09266123054114167),\n",
    "    ('[=N+1]', 0.0018532246108228334),\n",
    "    ('[=N-1]', 0.0018532246108228334),\n",
    "    ('[=N]', 0.011119347664937),\n",
    "    ('[=O+1]', 0.0018532246108228334),\n",
    "    ('[=O]', 0.0074128984432913336),\n",
    "    ('[=P+1]', 0.0007412898443291333),\n",
    "    ('[=P-1]', 0.0007412898443291333),\n",
    "    ('[=P]', 0.0037064492216456668),\n",
    "    ('[=Ring1]', 0.014825796886582667),\n",
    "    ('[=Ring2]', 0.011119347664937),\n",
    "    ('[=Ring3]', 0.0074128984432913336),\n",
    "    ('[=S+1]', 0.0018532246108228334),\n",
    "    ('[=S-1]', 0.0018532246108228334),\n",
    "    ('[=S]', 0.011119347664937),\n",
    "    ('[B+1]', 0.0018532246108228334),\n",
    "    ('[B-1]', 0.0037064492216456668),\n",
    "    ('[B]', 0.0074128984432913336),\n",
    "    ('[Br]', 0.0074128984432913336),\n",
    "    ('[Branch1]', 0.014825796886582667),\n",
    "    ('[Branch2]', 0.011119347664937),\n",
    "    ('[Branch3]', 0.0074128984432913336),\n",
    "    ('[C+1]', 0.0037064492216456668),\n",
    "    ('[C-1]', 0.011119347664937),\n",
    "    ('[C]', 0.14825796886582668),\n",
    "    ('[Cl]', 0.011119347664937),\n",
    "    ('[F]', 0.0074128984432913336),\n",
    "    ('[H]', 0.18532246108228334),\n",
    "    ('[I]', 0.0037064492216456668),\n",
    "    ('[N+1]', 0.0037064492216456668),\n",
    "    ('[N-1]', 0.0037064492216456668),\n",
    "    ('[N]', 0.02594514455151967),\n",
    "    ('[O+1]', 0.0018532246108228334),\n",
    "    ('[O-1]', 0.0037064492216456668),\n",
    "    ('[O]', 0.03706449221645667),\n",
    "    ('[P+1]', 0.0007412898443291333),\n",
    "    ('[P-1]', 0.0007412898443291333),\n",
    "    ('[P]', 0.0037064492216456668),\n",
    "    ('[Ring1]', 0.018532246108228335),\n",
    "    ('[Ring2]', 0.011119347664937),\n",
    "    ('[Ring3]', 0.0074128984432913336),\n",
    "    ('[S+1]', 0.0018532246108228334),\n",
    "    ('[S-1]', 0.0018532246108228334),\n",
    "    ('[S]', 0.014825796886582667)\n",
    "]"
   ]
  },
  {
   "cell_type": "code",
   "execution_count": 189,
   "metadata": {},
   "outputs": [
    {
     "data": {
      "text/plain": [
       "'[=C]'"
      ]
     },
     "execution_count": 189,
     "metadata": {},
     "output_type": "execute_result"
    }
   ],
   "source": [
    "np.random.choice( \n",
    "            [x[0] for x in chemical_space], p=[x[1] for x in chemical_space]\n",
    "        )"
   ]
  },
  {
   "cell_type": "code",
   "execution_count": 190,
   "metadata": {},
   "outputs": [],
   "source": [
    "from plip.structure.preparation import PDBComplex\n",
    "\n",
    "my_mol = PDBComplex()\n",
    "\n",
    "\n"
   ]
  },
  {
   "cell_type": "code",
   "execution_count": 192,
   "metadata": {},
   "outputs": [
    {
     "data": {
      "text/plain": [
       "['Mapper',\n",
       " '__class__',\n",
       " '__delattr__',\n",
       " '__dict__',\n",
       " '__dir__',\n",
       " '__doc__',\n",
       " '__eq__',\n",
       " '__format__',\n",
       " '__ge__',\n",
       " '__getattribute__',\n",
       " '__getstate__',\n",
       " '__gt__',\n",
       " '__hash__',\n",
       " '__init__',\n",
       " '__init_subclass__',\n",
       " '__le__',\n",
       " '__lt__',\n",
       " '__module__',\n",
       " '__ne__',\n",
       " '__new__',\n",
       " '__reduce__',\n",
       " '__reduce_ex__',\n",
       " '__repr__',\n",
       " '__setattr__',\n",
       " '__sizeof__',\n",
       " '__str__',\n",
       " '__subclasshook__',\n",
       " '__weakref__',\n",
       " '_output_path',\n",
       " 'altconf',\n",
       " 'analyze',\n",
       " 'atoms',\n",
       " 'characterize_complex',\n",
       " 'corrected_pdb',\n",
       " 'covalent',\n",
       " 'excluded',\n",
       " 'extract_bs',\n",
       " 'filetype',\n",
       " 'get_atom',\n",
       " 'information',\n",
       " 'interaction_sets',\n",
       " 'ligands',\n",
       " 'load_pdb',\n",
       " 'modres',\n",
       " 'output_path',\n",
       " 'protcomplex',\n",
       " 'pymol_name',\n",
       " 'res_belongs_to_bs',\n",
       " 'resis',\n",
       " 'sourcefiles']"
      ]
     },
     "execution_count": 192,
     "metadata": {},
     "output_type": "execute_result"
    }
   ],
   "source": [
    "dir(my_mol)"
   ]
  },
  {
   "cell_type": "code",
   "execution_count": 1,
   "metadata": {},
   "outputs": [
    {
     "name": "stdout",
     "output_type": "stream",
     "text": [
      "Warning: pymol not installed, cannot use Pymol class\n"
     ]
    }
   ],
   "source": [
    "import prody as pd\n",
    "import portein\n",
    "import matplotlib.pyplot as plt\n",
    "import numpy as np\n",
    "import yaml\n",
    "import warnings\n",
    "warnings.filterwarnings('ignore')\n",
    "portein.compile_numba_functions()"
   ]
  },
  {
   "cell_type": "code",
   "execution_count": 2,
   "metadata": {},
   "outputs": [
    {
     "name": "stdout",
     "output_type": "stream",
     "text": [
      "Collecting git+https://github.com/TurtleTools/portein\n",
      "  Cloning https://github.com/TurtleTools/portein to /tmp/pip-req-build-bkq1071j\n",
      "  Running command git clone --filter=blob:none --quiet https://github.com/TurtleTools/portein /tmp/pip-req-build-bkq1071j\n",
      "  Resolved https://github.com/TurtleTools/portein to commit 1ed9f1ad4375d825f38661bf61d3da366d3b50de\n",
      "  Installing build dependencies ... \u001b[?25ldone\n",
      "\u001b[?25h  Getting requirements to build wheel ... \u001b[?25ldone\n",
      "\u001b[?25h  Preparing metadata (pyproject.toml) ... \u001b[?25ldone\n",
      "\u001b[?25hRequirement already satisfied: numpy in /home/flowers-user/anaconda3/envs/adtool/lib/python3.11/site-packages (from portein==0.0.1) (1.23.5)\n",
      "Requirement already satisfied: numba in /home/flowers-user/anaconda3/envs/adtool/lib/python3.11/site-packages (from portein==0.0.1) (0.60.0)\n",
      "Requirement already satisfied: prody in /home/flowers-user/anaconda3/envs/adtool/lib/python3.11/site-packages (from portein==0.0.1) (2.4.1)\n",
      "Requirement already satisfied: matplotlib in /home/flowers-user/anaconda3/envs/adtool/lib/python3.11/site-packages (from portein==0.0.1) (3.9.0)\n",
      "Requirement already satisfied: typer in /home/flowers-user/anaconda3/envs/adtool/lib/python3.11/site-packages (from portein==0.0.1) (0.12.3)\n",
      "Requirement already satisfied: Pillow in /home/flowers-user/anaconda3/envs/adtool/lib/python3.11/site-packages (from portein==0.0.1) (10.2.0)\n",
      "Requirement already satisfied: pyyaml in /home/flowers-user/anaconda3/envs/adtool/lib/python3.11/site-packages (from portein==0.0.1) (6.0.1)\n",
      "Requirement already satisfied: contourpy>=1.0.1 in /home/flowers-user/anaconda3/envs/adtool/lib/python3.11/site-packages (from matplotlib->portein==0.0.1) (1.2.1)\n",
      "Requirement already satisfied: cycler>=0.10 in /home/flowers-user/anaconda3/envs/adtool/lib/python3.11/site-packages (from matplotlib->portein==0.0.1) (0.12.1)\n",
      "Requirement already satisfied: fonttools>=4.22.0 in /home/flowers-user/anaconda3/envs/adtool/lib/python3.11/site-packages (from matplotlib->portein==0.0.1) (4.53.0)\n",
      "Requirement already satisfied: kiwisolver>=1.3.1 in /home/flowers-user/anaconda3/envs/adtool/lib/python3.11/site-packages (from matplotlib->portein==0.0.1) (1.4.5)\n",
      "Requirement already satisfied: packaging>=20.0 in /home/flowers-user/anaconda3/envs/adtool/lib/python3.11/site-packages (from matplotlib->portein==0.0.1) (24.1)\n",
      "Requirement already satisfied: pyparsing>=2.3.1 in /home/flowers-user/anaconda3/envs/adtool/lib/python3.11/site-packages (from matplotlib->portein==0.0.1) (3.1.2)\n",
      "Requirement already satisfied: python-dateutil>=2.7 in /home/flowers-user/anaconda3/envs/adtool/lib/python3.11/site-packages (from matplotlib->portein==0.0.1) (2.9.0.post0)\n",
      "Requirement already satisfied: llvmlite<0.44,>=0.43.0dev0 in /home/flowers-user/anaconda3/envs/adtool/lib/python3.11/site-packages (from numba->portein==0.0.1) (0.43.0)\n",
      "Requirement already satisfied: biopython<=1.79 in /home/flowers-user/anaconda3/envs/adtool/lib/python3.11/site-packages (from prody->portein==0.0.1) (1.79)\n",
      "Requirement already satisfied: scipy in /home/flowers-user/anaconda3/envs/adtool/lib/python3.11/site-packages (from prody->portein==0.0.1) (1.14.0)\n",
      "Requirement already satisfied: setuptools in /home/flowers-user/anaconda3/envs/adtool/lib/python3.11/site-packages (from prody->portein==0.0.1) (69.5.1)\n",
      "Requirement already satisfied: click>=8.0.0 in /home/flowers-user/anaconda3/envs/adtool/lib/python3.11/site-packages (from typer->portein==0.0.1) (8.1.7)\n",
      "Requirement already satisfied: typing-extensions>=3.7.4.3 in /home/flowers-user/anaconda3/envs/adtool/lib/python3.11/site-packages (from typer->portein==0.0.1) (4.12.2)\n",
      "Requirement already satisfied: shellingham>=1.3.0 in /home/flowers-user/anaconda3/envs/adtool/lib/python3.11/site-packages (from typer->portein==0.0.1) (1.5.4)\n",
      "Requirement already satisfied: rich>=10.11.0 in /home/flowers-user/anaconda3/envs/adtool/lib/python3.11/site-packages (from typer->portein==0.0.1) (13.7.1)\n",
      "Requirement already satisfied: six>=1.5 in /home/flowers-user/anaconda3/envs/adtool/lib/python3.11/site-packages (from python-dateutil>=2.7->matplotlib->portein==0.0.1) (1.16.0)\n",
      "Requirement already satisfied: markdown-it-py>=2.2.0 in /home/flowers-user/anaconda3/envs/adtool/lib/python3.11/site-packages (from rich>=10.11.0->typer->portein==0.0.1) (3.0.0)\n",
      "Requirement already satisfied: pygments<3.0.0,>=2.13.0 in /home/flowers-user/anaconda3/envs/adtool/lib/python3.11/site-packages (from rich>=10.11.0->typer->portein==0.0.1) (2.18.0)\n",
      "Requirement already satisfied: mdurl~=0.1 in /home/flowers-user/anaconda3/envs/adtool/lib/python3.11/site-packages (from markdown-it-py>=2.2.0->rich>=10.11.0->typer->portein==0.0.1) (0.1.2)\n",
      "Building wheels for collected packages: portein\n",
      "  Building wheel for portein (pyproject.toml) ... \u001b[?25ldone\n",
      "\u001b[?25h  Created wheel for portein: filename=portein-0.0.1-py2.py3-none-any.whl size=19248 sha256=41130e5bc9726105831deddf5b63e765b7ab3fd0adc8527008fff6cd42a80629\n",
      "  Stored in directory: /tmp/pip-ephem-wheel-cache-oxjcwgmj/wheels/47/1f/bf/e20f4cc0678a7f5444aa9b8876a0155fbf579263a574d082be\n",
      "Successfully built portein\n",
      "Installing collected packages: portein\n",
      "Successfully installed portein-0.0.1\n"
     ]
    }
   ],
   "source": [
    "!pip install git+https://github.com/TurtleTools/portein"
   ]
  },
  {
   "cell_type": "code",
   "execution_count": 4,
   "metadata": {},
   "outputs": [
    {
     "name": "stderr",
     "output_type": "stream",
     "text": [
      "@> Connecting wwPDB FTP server RCSB PDB (USA).\n",
      "@> 7lc2 downloaded (7lc2.pdb.gz)\n",
      "@> PDB download via FTP completed (1 downloaded, 0 failed).\n",
      "@> 3833 atoms and 1 coordinate set(s) were parsed in 0.07s.\n",
      "@> 3833 atoms and 1 coordinate set(s) were parsed in 0.07s.\n",
      "@> 3833 atoms and 1 coordinate set(s) were parsed in 0.06s.\n"
     ]
    }
   ],
   "source": [
    "protein_config = portein.ProteinConfig(pdb_file=\"7lc2\", rotate=True, output_prefix=\"examples/7lc2\",\n",
    "                                       chain_colormap=\"Set3\", \n",
    "                                       highlight_residues={\"A\": {\"black\": [30, 35], \"red\": list(range(10,20))},\n",
    "                                                           \"B\": {\"black\": [25], \"red\": list(range(10, 16))}},\n",
    "                                       width=1000)\n"
   ]
  },
  {
   "cell_type": "code",
   "execution_count": 2,
   "metadata": {},
   "outputs": [],
   "source": [
    "illustrate_config=portein.IllustrateConfig(\n",
    "    illustra            te_binary=\"/home/flowers-user/adtool/examples/docking/systems/illustrate\",\n",
    ")"
   ]
  },
  {
   "cell_type": "code",
   "execution_count": 5,
   "metadata": {},
   "outputs": [],
   "source": [
    "\n",
    "illustrate = portein.Illustrate(protein_config=protein_config, illustrate_config=illustrate_config)\n",
    "image_file = illustrate.run()"
   ]
  },
  {
   "cell_type": "code",
   "execution_count": 15,
   "metadata": {},
   "outputs": [
    {
     "data": {
      "text/plain": [
       "'/home/flowers-user/adtool/examples/docking/systems'"
      ]
     },
     "execution_count": 15,
     "metadata": {},
     "output_type": "execute_result"
    }
   ],
   "source": [
    "pwd"
   ]
  },
  {
   "cell_type": "code",
   "execution_count": 7,
   "metadata": {},
   "outputs": [
    {
     "data": {
      "text/plain": [
       "<Response [202]>"
      ]
     },
     "execution_count": 7,
     "metadata": {},
     "output_type": "execute_result"
    }
   ],
   "source": [
    "response"
   ]
  },
  {
   "cell_type": "code",
   "execution_count": 1,
   "metadata": {},
   "outputs": [
    {
     "name": "stderr",
     "output_type": "stream",
     "text": [
      "libGL error: MESA-LOADER: failed to open iris: /usr/lib/dri/iris_dri.so: cannot open shared object file: No such file or directory (search paths /usr/lib/x86_64-linux-gnu/dri:\\$${ORIGIN}/dri:/usr/lib/dri, suffix _dri)\n",
      "libGL error: failed to load driver: iris\n",
      "libGL error: MESA-LOADER: failed to open iris: /usr/lib/dri/iris_dri.so: cannot open shared object file: No such file or directory (search paths /usr/lib/x86_64-linux-gnu/dri:\\$${ORIGIN}/dri:/usr/lib/dri, suffix _dri)\n",
      "libGL error: failed to load driver: iris\n",
      "libGL error: MESA-LOADER: failed to open swrast: /usr/lib/dri/swrast_dri.so: cannot open shared object file: No such file or directory (search paths /usr/lib/x86_64-linux-gnu/dri:\\$${ORIGIN}/dri:/usr/lib/dri, suffix _dri)\n",
      "libGL error: failed to load driver: swrast\n",
      "QOpenGLWidget: Failed to create context\n",
      "QOpenGLWidget: Failed to create context\n",
      "qt.qpa.backingstore: composeAndFlush: QOpenGLContext creation failed\n",
      "qt.qpa.backingstore: composeAndFlush: makeCurrent() failed\n",
      "qt.qpa.backingstore: composeAndFlush: makeCurrent() failed\n",
      "qt.qpa.backingstore: composeAndFlush: makeCurrent() failed\n",
      "qt.qpa.backingstore: composeAndFlush: makeCurrent() failed\n",
      "qt.qpa.backingstore: composeAndFlush: makeCurrent() failed\n",
      "qt.qpa.backingstore: composeAndFlush: makeCurrent() failed\n",
      "qt.qpa.backingstore: composeAndFlush: makeCurrent() failed\n",
      "qt.qpa.backingstore: composeAndFlush: makeCurrent() failed\n",
      "qt.qpa.backingstore: composeAndFlush: makeCurrent() failed\n",
      "qt.qpa.backingstore: composeAndFlush: makeCurrent() failed\n",
      "qt.qpa.backingstore: composeAndFlush: makeCurrent() failed\n",
      "qt.qpa.backingstore: composeAndFlush: makeCurrent() failed\n",
      "qt.qpa.backingstore: composeAndFlush: makeCurrent() failed\n",
      "qt.qpa.backingstore: composeAndFlush: makeCurrent() failed\n",
      "qt.qpa.backingstore: composeAndFlush: makeCurrent() failed\n",
      "qt.qpa.backingstore: composeAndFlush: makeCurrent() failed\n",
      "qt.qpa.backingstore: composeAndFlush: makeCurrent() failed\n",
      "qt.qpa.backingstore: composeAndFlush: makeCurrent() failed\n",
      "qt.qpa.backingstore: composeAndFlush: makeCurrent() failed\n",
      "qt.qpa.backingstore: composeAndFlush: makeCurrent() failed\n",
      "qt.qpa.backingstore: composeAndFlush: makeCurrent() failed\n",
      "qt.qpa.backingstore: composeAndFlush: makeCurrent() failed\n",
      "qt.qpa.backingstore: composeAndFlush: makeCurrent() failed\n",
      "qt.qpa.backingstore: composeAndFlush: makeCurrent() failed\n",
      "qt.qpa.backingstore: composeAndFlush: makeCurrent() failed\n",
      "qt.qpa.backingstore: composeAndFlush: makeCurrent() failed\n",
      "qt.qpa.backingstore: composeAndFlush: makeCurrent() failed\n",
      "qt.qpa.backingstore: composeAndFlush: makeCurrent() failed\n",
      "qt.qpa.backingstore: composeAndFlush: makeCurrent() failed\n",
      "qt.qpa.backingstore: composeAndFlush: makeCurrent() failed\n",
      "qt.qpa.backingstore: composeAndFlush: makeCurrent() failed\n",
      "qt.qpa.backingstore: composeAndFlush: makeCurrent() failed\n",
      "qt.qpa.backingstore: composeAndFlush: makeCurrent() failed\n",
      "qt.qpa.backingstore: composeAndFlush: makeCurrent() failed\n",
      "qt.qpa.backingstore: composeAndFlush: makeCurrent() failed\n",
      "qt.qpa.backingstore: composeAndFlush: makeCurrent() failed\n",
      "qt.qpa.backingstore: composeAndFlush: makeCurrent() failed\n",
      "qt.qpa.backingstore: composeAndFlush: makeCurrent() failed\n",
      "qt.qpa.backingstore: composeAndFlush: makeCurrent() failed\n",
      "qt.qpa.backingstore: composeAndFlush: makeCurrent() failed\n",
      "qt.qpa.backingstore: composeAndFlush: makeCurrent() failed\n",
      "qt.qpa.backingstore: composeAndFlush: makeCurrent() failed\n",
      "qt.qpa.backingstore: composeAndFlush: makeCurrent() failed\n",
      "qt.qpa.backingstore: composeAndFlush: makeCurrent() failed\n",
      "qt.qpa.backingstore: composeAndFlush: makeCurrent() failed\n",
      "qt.qpa.backingstore: composeAndFlush: makeCurrent() failed\n",
      "qt.qpa.backingstore: composeAndFlush: makeCurrent() failed\n",
      "qt.qpa.backingstore: composeAndFlush: makeCurrent() failed\n",
      "qt.qpa.backingstore: composeAndFlush: makeCurrent() failed\n",
      "qt.qpa.backingstore: composeAndFlush: makeCurrent() failed\n",
      "qt.qpa.backingstore: composeAndFlush: makeCurrent() failed\n",
      "qt.qpa.backingstore: composeAndFlush: makeCurrent() failed\n",
      "qt.qpa.backingstore: composeAndFlush: makeCurrent() failed\n",
      "qt.qpa.backingstore: composeAndFlush: makeCurrent() failed\n",
      "qt.qpa.backingstore: composeAndFlush: makeCurrent() failed\n",
      "qt.qpa.backingstore: composeAndFlush: makeCurrent() failed\n",
      "qt.qpa.backingstore: composeAndFlush: makeCurrent() failed\n",
      "qt.qpa.backingstore: composeAndFlush: makeCurrent() failed\n",
      "qt.qpa.backingstore: composeAndFlush: makeCurrent() failed\n",
      "qt.qpa.backingstore: composeAndFlush: makeCurrent() failed\n",
      "qt.qpa.backingstore: composeAndFlush: makeCurrent() failed\n",
      "qt.qpa.backingstore: composeAndFlush: makeCurrent() failed\n",
      "qt.qpa.backingstore: composeAndFlush: makeCurrent() failed\n",
      "qt.qpa.backingstore: composeAndFlush: makeCurrent() failed\n",
      "qt.qpa.backingstore: composeAndFlush: makeCurrent() failed\n",
      "qt.qpa.backingstore: composeAndFlush: makeCurrent() failed\n",
      "qt.qpa.backingstore: composeAndFlush: makeCurrent() failed\n",
      "qt.qpa.backingstore: composeAndFlush: makeCurrent() failed\n",
      "qt.qpa.backingstore: composeAndFlush: makeCurrent() failed\n",
      "qt.qpa.backingstore: composeAndFlush: makeCurrent() failed\n",
      "qt.qpa.backingstore: composeAndFlush: makeCurrent() failed\n",
      "qt.qpa.backingstore: composeAndFlush: makeCurrent() failed\n",
      "qt.qpa.backingstore: composeAndFlush: makeCurrent() failed\n",
      "qt.qpa.backingstore: composeAndFlush: makeCurrent() failed\n",
      "qt.qpa.backingstore: composeAndFlush: makeCurrent() failed\n",
      "qt.qpa.backingstore: composeAndFlush: makeCurrent() failed\n",
      "qt.qpa.backingstore: composeAndFlush: makeCurrent() failed\n",
      "qt.qpa.backingstore: composeAndFlush: makeCurrent() failed\n",
      "qt.qpa.backingstore: composeAndFlush: makeCurrent() failed\n",
      "qt.qpa.backingstore: composeAndFlush: makeCurrent() failed\n",
      "qt.qpa.backingstore: composeAndFlush: makeCurrent() failed\n",
      "qt.qpa.backingstore: composeAndFlush: makeCurrent() failed\n",
      "qt.qpa.backingstore: composeAndFlush: makeCurrent() failed\n",
      "qt.qpa.backingstore: composeAndFlush: makeCurrent() failed\n",
      "qt.qpa.backingstore: composeAndFlush: makeCurrent() failed\n",
      "qt.qpa.backingstore: composeAndFlush: makeCurrent() failed\n",
      "qt.qpa.backingstore: composeAndFlush: makeCurrent() failed\n",
      "qt.qpa.backingstore: composeAndFlush: makeCurrent() failed\n",
      "qt.qpa.backingstore: composeAndFlush: makeCurrent() failed\n",
      "qt.qpa.backingstore: composeAndFlush: makeCurrent() failed\n",
      "qt.qpa.backingstore: composeAndFlush: makeCurrent() failed\n",
      "qt.qpa.backingstore: composeAndFlush: makeCurrent() failed\n",
      "qt.qpa.backingstore: composeAndFlush: makeCurrent() failed\n",
      "qt.qpa.backingstore: composeAndFlush: makeCurrent() failed\n",
      "qt.qpa.backingstore: composeAndFlush: makeCurrent() failed\n",
      "qt.qpa.backingstore: composeAndFlush: makeCurrent() failed\n",
      "qt.qpa.backingstore: composeAndFlush: makeCurrent() failed\n",
      "qt.qpa.backingstore: composeAndFlush: makeCurrent() failed\n"
     ]
    },
    {
     "ename": "SystemExit",
     "evalue": "0",
     "output_type": "error",
     "traceback": [
      "An exception has occurred, use %tb to see the full traceback.\n",
      "\u001b[0;31mSystemExit\u001b[0m\u001b[0;31m:\u001b[0m 0\n"
     ]
    },
    {
     "name": "stderr",
     "output_type": "stream",
     "text": [
      "/home/flowers-user/anaconda3/envs/adtool/lib/python3.11/site-packages/IPython/core/interactiveshell.py:3585: UserWarning: To exit: use 'exit', 'quit', or Ctrl-D.\n",
      "  warn(\"To exit: use 'exit', 'quit', or Ctrl-D.\", stacklevel=1)\n"
     ]
    }
   ],
   "source": [
    "import sys\n",
    "import numpy as np\n",
    "from PyQt5.QtWidgets import QApplication\n",
    "import pyqtgraph as pg\n",
    "import pyqtgraph.opengl as gl\n",
    "from Bio import PDB\n",
    "\n",
    "# Define atom colors\n",
    "atom_colors = {\n",
    "    'C': (0.5, 0.5, 0.5, 1),  # Gray\n",
    "    'N': (0, 0, 1, 1),        # Blue\n",
    "    'O': (1, 0, 0, 1),        # Red\n",
    "    'S': (1, 1, 0, 1),        # Yellow\n",
    "    'P': (1, 0.5, 0, 1),      # Orange\n",
    "    'H': (0.9, 0.9, 0.9, 1),  # Light gray\n",
    "}\n",
    "\n",
    "def parse_pdb(pdb_file):\n",
    "    parser = PDB.PDBParser(QUIET=True)\n",
    "    structure = parser.get_structure('protein', pdb_file)\n",
    "    \n",
    "    atoms = []\n",
    "    bonds = []\n",
    "    \n",
    "    for model in structure:\n",
    "        for chain in model:\n",
    "            prev_atom = None\n",
    "            for residue in chain:\n",
    "                i=0\n",
    "                for atom in residue:\n",
    "                    atoms.append((atom.get_coord(), atom.element))\n",
    "                    if prev_atom is not None:\n",
    "                        bonds.append((prev_atom, len(atoms) - 1))\n",
    "                    prev_atom = len(atoms) - 1\n",
    "                    i+=1\n",
    "                    if i>5:\n",
    "                        break\n",
    "    \n",
    "    return atoms, np.array(bonds)\n",
    "\n",
    "def plot_protein(atoms, bonds):\n",
    "    app = QApplication(sys.argv)\n",
    "    w = gl.GLViewWidget()\n",
    "    w.show()\n",
    "    w.setWindowTitle('Protein Structure Viewer')\n",
    "    w.setCameraPosition(distance=40)\n",
    "\n",
    "    # Plot atoms\n",
    "    pos = np.array([atom[0] for atom in atoms])\n",
    "    colors = np.array([atom_colors.get(atom[1], (0.5, 0.5, 0.5, 1)) for atom in atoms])\n",
    "    \n",
    "    sp = gl.GLScatterPlotItem(pos=pos, color=colors, size=0.5)\n",
    "    w.addItem(sp)\n",
    "\n",
    "    # Plot bonds\n",
    "    if len(bonds) > 0:\n",
    "        bond_pos = pos[bonds]\n",
    "        bond_colors = np.tile((0.7, 0.7, 0.7, 1), (len(bonds), 1))\n",
    "        bonds_item = gl.GLLinePlotItem(pos=bond_pos, color=bond_colors, width=2, mode='lines')\n",
    "        w.addItem(bonds_item)\n",
    "\n",
    "    # Start Qt event loop\n",
    "    sys.exit(app.exec_())\n",
    "\n",
    "\n",
    "# Usage\n",
    "pdb_file = 'P22680_3V8D_A.pdb'\n",
    "atoms, bonds = parse_pdb(pdb_file)\n",
    "plot_protein(atoms, bonds)\n"
   ]
  },
  {
   "cell_type": "code",
   "execution_count": 5,
   "metadata": {},
   "outputs": [
    {
     "name": "stdout",
     "output_type": "stream",
     "text": [
      "Collecting pyqtgraph\n",
      "  Downloading pyqtgraph-0.13.7-py3-none-any.whl.metadata (1.3 kB)\n",
      "Requirement already satisfied: numpy>=1.22.0 in /home/flowers-user/anaconda3/envs/adtool/lib/python3.11/site-packages (from pyqtgraph) (1.23.5)\n",
      "Downloading pyqtgraph-0.13.7-py3-none-any.whl (1.9 MB)\n",
      "\u001b[2K   \u001b[90m━━━━━━━━━━━━━━━━━━━━━━━━━━━━━━━━━━━━━━━━\u001b[0m \u001b[32m1.9/1.9 MB\u001b[0m \u001b[31m13.2 MB/s\u001b[0m eta \u001b[36m0:00:00\u001b[0m00:01\u001b[0m0:01\u001b[0m\n",
      "\u001b[?25hInstalling collected packages: pyqtgraph\n",
      "Successfully installed pyqtgraph-0.13.7\n",
      "Note: you may need to restart the kernel to use updated packages.\n"
     ]
    }
   ],
   "source": [
    "pip install pyqtgraph"
   ]
  },
  {
   "cell_type": "code",
   "execution_count": 7,
   "metadata": {},
   "outputs": [
    {
     "name": "stdout",
     "output_type": "stream",
     "text": [
      "Collecting PyQt5\n",
      "  Downloading PyQt5-5.15.11-cp38-abi3-manylinux_2_17_x86_64.whl.metadata (2.1 kB)\n",
      "Collecting PyQt5-sip<13,>=12.15 (from PyQt5)\n",
      "  Downloading PyQt5_sip-12.15.0-cp311-cp311-manylinux_2_5_x86_64.manylinux1_x86_64.whl.metadata (421 bytes)\n",
      "Collecting PyQt5-Qt5<5.16.0,>=5.15.2 (from PyQt5)\n",
      "  Downloading PyQt5_Qt5-5.15.14-py3-none-manylinux2014_x86_64.whl.metadata (536 bytes)\n",
      "Downloading PyQt5-5.15.11-cp38-abi3-manylinux_2_17_x86_64.whl (8.2 MB)\n",
      "\u001b[2K   \u001b[90m━━━━━━━━━━━━━━━━━━━━━━━━━━━━━━━━━━━━━━━━\u001b[0m \u001b[32m8.2/8.2 MB\u001b[0m \u001b[31m36.7 MB/s\u001b[0m eta \u001b[36m0:00:00\u001b[0m00:01\u001b[0m00:01\u001b[0m\n",
      "\u001b[?25hDownloading PyQt5_Qt5-5.15.14-py3-none-manylinux2014_x86_64.whl (60.5 MB)\n",
      "\u001b[2K   \u001b[90m━━━━━━━━━━━━━━━━━━━━━━━━━━━━━━━━━━━━━━━━\u001b[0m \u001b[32m60.5/60.5 MB\u001b[0m \u001b[31m40.4 MB/s\u001b[0m eta \u001b[36m0:00:00\u001b[0m00:01\u001b[0m00:01\u001b[0mm\n",
      "\u001b[?25hDownloading PyQt5_sip-12.15.0-cp311-cp311-manylinux_2_5_x86_64.manylinux1_x86_64.whl (276 kB)\n",
      "\u001b[2K   \u001b[90m━━━━━━━━━━━━━━━━━━━━━━━━━━━━━━━━━━━━━━━━\u001b[0m \u001b[32m276.0/276.0 kB\u001b[0m \u001b[31m51.4 MB/s\u001b[0m eta \u001b[36m0:00:00\u001b[0m\n",
      "\u001b[?25hInstalling collected packages: PyQt5-Qt5, PyQt5-sip, PyQt5\n",
      "Successfully installed PyQt5-5.15.11 PyQt5-Qt5-5.15.14 PyQt5-sip-12.15.0\n"
     ]
    }
   ],
   "source": [
    "!pip install PyQt5"
   ]
  },
  {
   "cell_type": "code",
   "execution_count": 10,
   "metadata": {},
   "outputs": [
    {
     "name": "stdout",
     "output_type": "stream",
     "text": [
      "Collecting pyopengl\n",
      "  Downloading PyOpenGL-3.1.7-py3-none-any.whl.metadata (3.2 kB)\n",
      "Downloading PyOpenGL-3.1.7-py3-none-any.whl (2.4 MB)\n",
      "\u001b[2K   \u001b[90m━━━━━━━━━━━━━━━━━━━━━━━━━━━━━━━━━━━━━━━━\u001b[0m \u001b[32m2.4/2.4 MB\u001b[0m \u001b[31m15.0 MB/s\u001b[0m eta \u001b[36m0:00:00\u001b[0ma \u001b[36m0:00:01\u001b[0m\n",
      "\u001b[?25hInstalling collected packages: pyopengl\n",
      "Successfully installed pyopengl-3.1.7\n",
      "Note: you may need to restart the kernel to use updated packages.\n"
     ]
    }
   ],
   "source": [
    "pip install pyopengl"
   ]
  },
  {
   "cell_type": "code",
   "execution_count": 27,
   "metadata": {},
   "outputs": [
    {
     "name": "stdout",
     "output_type": "stream",
     "text": [
      "Rendering...\n",
      "Rendering complete.\n",
      "Saved 60 frames.\n"
     ]
    }
   ],
   "source": [
    "from selenium import webdriver\n",
    "from selenium.webdriver.common.by import By\n",
    "from selenium.webdriver.support.ui import WebDriverWait\n",
    "from selenium.webdriver.support import expected_conditions as EC\n",
    "from selenium.webdriver.chrome.service import Service\n",
    "from webdriver_manager.chrome import ChromeDriverManager\n",
    "import base64\n",
    "import os\n",
    "import time\n",
    "\n",
    "def render(protein, ligand):\n",
    "    options = webdriver.ChromeOptions()\n",
    "    options.add_argument('--headless') \n",
    "    driver = webdriver.Chrome(service=Service(ChromeDriverManager().install()), options=options)\n",
    "\n",
    "    print(\"Rendering...\")\n",
    "\n",
    "    # HTML content\n",
    "    html_content = f'''\n",
    "    <html>\n",
    "    <body style=\"margin: 0; padding: 0; display: block;\">\n",
    "    <div id=\"3dmolviewer\" style=\"position: relative; width: 512px; height: 512px;\">\n",
    "    <p id=\"viewer3dmolwarning\" style=\"background-color:#ffcccc;color:black\"><br></p>\n",
    "    </div>\n",
    "    <script src=\"https://cdnjs.cloudflare.com/ajax/libs/3Dmol/2.2.0/3Dmol-min.js\"></script>\n",
    "    <script>\n",
    "    var viewer = null;\n",
    "    var warn = document.getElementById(\"viewer3dmolwarning\");\n",
    "    if(warn) {{\n",
    "        warn.parentNode.removeChild(warn);\n",
    "    }}\n",
    "    \n",
    "    viewer = $3Dmol.createViewer(document.getElementById(\"3dmolviewer\"),{{backgroundColor:\"white\"}});\n",
    "    viewer.zoomTo();\n",
    "    viewer.addModel(`{protein}`,\"pdb\");\n",
    "    viewer.addModel(`{ligand}`,\"pdb\");\n",
    "    viewer.setStyle({{\"model\": 0}},{{\"cartoon\": {{\"color\": \"spectrum\", \"opacity\": 0.7}}}});\n",
    "    viewer.setStyle({{\"model\": 1}},{{\"stick\": {{\"colorscheme\": \"cyanCarbon\"}}}});\n",
    "    viewer.zoomTo({{\"model\": 1}});\n",
    "    viewer.zoom(0.5);\n",
    "    viewer.render();\n",
    "\n",
    "    const nb_frames = 60;\n",
    "    var pngURIs = [];\n",
    "    for (var i = 0; i < nb_frames; i++) {{\n",
    "        viewer.rotate(360/nb_frames , \"y\");\n",
    "        pngURIs.push(viewer.pngURI());\n",
    "    }}\n",
    "    document.body.setAttribute('data-png-uris', JSON.stringify(pngURIs));\n",
    "    document.body.setAttribute('data-render-complete', 'true');\n",
    "    </script>\n",
    "    </body>\n",
    "    </html>\n",
    "    '''\n",
    "\n",
    "    with open('temp.html', 'w') as f:\n",
    "        f.write(html_content)\n",
    "\n",
    "    driver.get('file://' + os.path.abspath('temp.html'))\n",
    "\n",
    "\n",
    "\n",
    "    print(\"Rendering complete.\")    \n",
    "\n",
    "\n",
    "    png_uris = driver.execute_script(\"return JSON.parse(document.body.getAttribute('data-png-uris'));\")\n",
    "\n",
    "    png_frames = []\n",
    "    for uri in png_uris:\n",
    "        png_data = uri.split(',')[1]\n",
    "        png_bytes = base64.b64decode(png_data)\n",
    "        png_frames.append(png_bytes)\n",
    "\n",
    "    driver.quit()\n",
    "\n",
    "    os.remove('temp.html')\n",
    "\n",
    "    return png_frames\n",
    "\n",
    "\n",
    "\n",
    "\n",
    "protein = open('P22680_3V8D_A.pdb').read()\n",
    "ligand = open('tmp/docked_ligand.pdb').read()\n",
    "\n",
    "\n",
    "frames = render(protein, ligand)\n",
    "\n",
    "import imageio\n",
    "\n",
    "images = [imageio.v2.imread(frame) for frame in frames]\n",
    "\n",
    "imageio.mimsave('docking.mp4', images, fps=10)\n",
    "\n",
    "\n",
    "print(f\"Saved {len(frames)} frames.\")"
   ]
  }
 ],
 "metadata": {
  "kernelspec": {
   "display_name": "adtool",
   "language": "python",
   "name": "python3"
  },
  "language_info": {
   "codemirror_mode": {
    "name": "ipython",
    "version": 3
   },
   "file_extension": ".py",
   "mimetype": "text/x-python",
   "name": "python",
   "nbconvert_exporter": "python",
   "pygments_lexer": "ipython3",
   "version": "3.11.9"
  }
 },
 "nbformat": 4,
 "nbformat_minor": 2
}
