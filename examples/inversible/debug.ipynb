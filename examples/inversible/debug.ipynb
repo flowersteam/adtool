{
 "cells": [
  {
   "cell_type": "code",
   "execution_count": 1,
   "metadata": {},
   "outputs": [
    {
     "data": {
      "text/plain": [
       "array([[-2.62381836, -0.08336803, -0.43206529,  4.13925168],\n",
       "       [ 0.36446116,  0.16862493, -0.32673034,  0.79364425],\n",
       "       [ 0.0473269 , -0.27835585,  0.14651606,  1.0845129 ],\n",
       "       [ 0.71094378,  0.37871608,  0.27329577, -0.36295564]])"
      ]
     },
     "execution_count": 1,
     "metadata": {},
     "output_type": "execute_result"
    }
   ],
   "source": [
    "from random import uniform\n",
    "import numpy as np\n",
    "\n",
    "a12, a13, a21, a22, a23, a31, a32, a33, a41, a42, a43 = [uniform(-1, 1) for i in range(11)]\n",
    "a11 = (a12*a21*a33 - a12*a21*a43 - a12*a23*a31 + a12*a23*a41 + a12*a31*a43 - a12*a33*a41 - a13*a21*a32 + a13*a21*a42 + \\\n",
    "       a13*a22*a31 - a13*a22*a41 - a13*a31*a42 + a13*a32*a41 + a21*a32*a43 - a21*a33*a42 - a22*a31*a43 + a22*a33*a41 + \\\n",
    "        a23*a31*a42 - a23*a32*a41 + 1)/(a22*a33 - a22*a43 - a23*a32 + a23*a42 + a32*a43 - a33*a42)\n",
    "\n",
    "matrix = np.array([[a11, a12, a13, 1-a11-a12-a13], [a21, a22, a23, 1-a21-a22-a23], [a31, a32, a33, 1-a31-a32-a33], [a41, a42, a43, 1-a41-a42-a43]])\n",
    "\n",
    "#save matrix locally\n",
    "#np.savetxt('matrix.csv', matrix, delimiter=',')\n",
    "matrix"
   ]
  },
  {
   "cell_type": "code",
   "execution_count": 2,
   "metadata": {},
   "outputs": [
    {
     "data": {
      "text/plain": [
       "1.0"
      ]
     },
     "execution_count": 2,
     "metadata": {},
     "output_type": "execute_result"
    }
   ],
   "source": [
    "np.linalg.det(matrix)"
   ]
  },
  {
   "cell_type": "code",
   "execution_count": null,
   "metadata": {},
   "outputs": [],
   "source": []
  },
  {
   "cell_type": "code",
   "execution_count": 3,
   "metadata": {},
   "outputs": [
    {
     "name": "stderr",
     "output_type": "stream",
     "text": [
      "/tmp/ipykernel_28643/1999798359.py:82: MatplotlibDeprecationWarning: The tostring_rgb function was deprecated in Matplotlib 3.8 and will be removed in 3.10. Use buffer_rgba instead.\n",
      "  frame = np.frombuffer(fig.canvas.tostring_rgb(), dtype='uint8')\n"
     ]
    },
    {
     "data": {
      "text/plain": [
       "'grid_evolution.gif'"
      ]
     },
     "execution_count": 3,
     "metadata": {},
     "output_type": "execute_result"
    }
   ],
   "source": [
    "import numpy as np\n",
    "import matplotlib.pyplot as plt\n",
    "import imageio.v2 as imageio\n",
    "\n",
    "# Grid dimensions\n",
    "GRID_SIZE = 50\n",
    "\n",
    "# Initial probability of a cell being alive\n",
    "INITIAL_PROBABILITY = 0.01\n",
    "\n",
    "# Number of steps to run the simulation\n",
    "STEPS = 100\n",
    "\n",
    "# Initialize the grid randomly with values between 0 and 1\n",
    "#grid = np.random.rand(GRID_SIZE, GRID_SIZE)\n",
    "\n",
    "grid = np.random.choice([0, 1], size=(GRID_SIZE, GRID_SIZE), p=[1 - INITIAL_PROBABILITY, INITIAL_PROBABILITY])\n",
    "\n",
    "\n",
    "\n",
    "#matrix=np.random.rand(2,2)\n",
    "\n",
    "\n",
    "def update_block(block):\n",
    " \n",
    "    # flatten the block\n",
    "    block = block.flatten()\n",
    "\n",
    "\n",
    "    block=np.matmul(matrix,block)\n",
    "\n",
    "    # reshape the block\n",
    "    block = block.reshape(2, 2)\n",
    "\n",
    "\n",
    "    #normalize\n",
    "    \n",
    "\n",
    "\n",
    "    return block\n",
    "\n",
    "def update(grid, step):\n",
    "    offset = (step % 2)\n",
    "    new_grid = grid.copy()\n",
    "\n",
    "    # for i in range(offset, GRID_SIZE - 1, 2):\n",
    "    #     for j in range(offset, GRID_SIZE - 1, 2):\n",
    "    #         block = grid[i:i+2, j:j+2]\n",
    "    #         new_grid[i:i+2, j:j+2] = update_block(block)\n",
    "\n",
    "\n",
    "    # same but torroidal so on the edges the missing cells are taken from the other side\n",
    "    # for i in range(offset, GRID_SIZE - 1, 2):\n",
    "    #     for j in range(offset, GRID_SIZE - 1, 2):\n",
    "    for i in range(offset, GRID_SIZE - 1, 2):\n",
    "        for j in range(offset, GRID_SIZE - 1, 2):\n",
    "            block = grid[i:i+2, j:j+2]\n",
    "            new_grid[i:i+2, j:j+2] = update_block(block)\n",
    "\n",
    "    if offset == 1:\n",
    "        new_grid[0, :] = new_grid[GRID_SIZE - 1, :]\n",
    "        new_grid[:, 0] = new_grid[:, GRID_SIZE - 1]\n",
    "    \n",
    "\n",
    "\n",
    "\n",
    "\n",
    "    return new_grid\n",
    "\n",
    "# Set up a list to collect frames for the GIF\n",
    "frames = []\n",
    "\n",
    "for step in range(STEPS):\n",
    "    # Update the grid\n",
    "    grid = update(grid, step)\n",
    "    \n",
    "    # Plot the current state of the grid\n",
    "    fig, ax = plt.subplots(figsize=(6, 6))\n",
    "    ax.imshow(grid, cmap='viridis')\n",
    "    ax.set_title(f'Step {step + 1}')\n",
    "    ax.set_xticks([])\n",
    "    ax.set_yticks([])\n",
    "\n",
    "    # Save the current frame to the list\n",
    "    fig.canvas.draw()\n",
    "    frame = np.frombuffer(fig.canvas.tostring_rgb(), dtype='uint8')\n",
    "    frame = frame.reshape(fig.canvas.get_width_height()[::-1] + (3,))\n",
    "    frames.append(frame)\n",
    "    plt.close(fig)\n",
    "\n",
    "# Save the frames as a GIF\n",
    "gif_path = \"grid_evolution.gif\"\n",
    "imageio.mimsave(gif_path, frames, fps=10)\n",
    "\n",
    "# Display the path to the created GIF\n",
    "gif_path"
   ]
  },
  {
   "cell_type": "code",
   "execution_count": null,
   "metadata": {},
   "outputs": [],
   "source": []
  },
  {
   "cell_type": "code",
   "execution_count": null,
   "metadata": {},
   "outputs": [],
   "source": [
    "from scipy.stats import ortho_group\n",
    "matrix = ortho_group.rvs(dim=2)"
   ]
  },
  {
   "cell_type": "code",
   "execution_count": 24,
   "metadata": {},
   "outputs": [
    {
     "name": "stdout",
     "output_type": "stream",
     "text": [
      "[[ 0.23007284  0.97317341]\n",
      " [ 0.97317341 -0.23007284]]\n"
     ]
    }
   ],
   "source": [
    "# get random 2d rotation matrix\n",
    "\n"
   ]
  },
  {
   "cell_type": "code",
   "execution_count": 30,
   "metadata": {},
   "outputs": [
    {
     "name": "stdout",
     "output_type": "stream",
     "text": [
      "[[0.17538453 0.21377761]\n",
      " [0.21377761 0.39706026]]\n"
     ]
    }
   ],
   "source": [
    "# random 2x2 positivinvertible matrix\n",
    "\n"
   ]
  },
  {
   "cell_type": "code",
   "execution_count": 162,
   "metadata": {},
   "outputs": [
    {
     "data": {
      "text/plain": [
       "[((a12*a21*a33 - a12*a21*a43 - a12*a23*a31 + a12*a23*a41 + a12*a31*a43 - a12*a33*a41 - a13*a21*a32 + a13*a21*a42 + a13*a22*a31 - a13*a22*a41 - a13*a31*a42 + a13*a32*a41 + a21*a32*a43 - a21*a33*a42 - a22*a31*a43 + a22*a33*a41 + a23*a31*a42 - a23*a32*a41 + 1)/(a22*a33 - a22*a43 - a23*a32 + a23*a42 + a32*a43 - a33*a42),\n",
       "  a12,\n",
       "  a13,\n",
       "  a21,\n",
       "  a22,\n",
       "  a23,\n",
       "  a31,\n",
       "  a32,\n",
       "  a33,\n",
       "  a41,\n",
       "  a42,\n",
       "  a43)]"
      ]
     },
     "execution_count": 162,
     "metadata": {},
     "output_type": "execute_result"
    }
   ],
   "source": [
    "# use symbolic to get the determinant of \n",
    "# a11, a12, a13, 1-a11-a12-a13\n",
    "# a21, a22, a23, 1-a21-a22-a23\n",
    "# a31, a32, a33, 1-a31-a32-a33\n",
    "# a41, a42, a43, 1-a41-a42-a43\n",
    "from sympy import symbols, Matrix\n",
    "a11, a12, a13, a21, a22, a23, a31, a32, a33, a41, a42, a43 = symbols('a11 a12 a13 a21 a22 a23 a31 a32 a33 a41 a42 a43')\n",
    "A = Matrix([[a11, a12, a13, 1-a11-a12-a13], [a21, a22, a23, 1-a21-a22-a23], [a31, a32, a33, 1-a31-a32-a33], [a41, a42, a43, 1-a41-a42-a43]])\n",
    "det = A.det()\n",
    "det\n",
    "# solve for the determinant to be 1\n",
    "from sympy import solve\n",
    "solutions = solve(det - 1, (a11, a12, a13, a21, a22, a23, a31, a32, a33, a41, a42, a43))\n",
    "solutions\n"
   ]
  },
  {
   "cell_type": "code",
   "execution_count": 178,
   "metadata": {},
   "outputs": [
    {
     "data": {
      "text/plain": [
       "array([[-1.27099281,  0.42843664,  0.25317964,  1.58937653],\n",
       "       [ 0.59941886,  0.79176771,  0.09126588, -0.48245245],\n",
       "       [ 0.1815346 ,  0.09794437, -0.25848806,  0.97900909],\n",
       "       [-0.86091964,  0.2704643 ,  0.9406628 ,  0.64979253]])"
      ]
     },
     "execution_count": 178,
     "metadata": {},
     "output_type": "execute_result"
    }
   ],
   "source": [
    "matrix"
   ]
  },
  {
   "cell_type": "code",
   "execution_count": 104,
   "metadata": {},
   "outputs": [],
   "source": [
    "matrix\n",
    "#compute sum of lines \n",
    "from numpy.linalg import norm\n",
    "sums = np.sum(matrix, axis=1)"
   ]
  },
  {
   "cell_type": "code",
   "execution_count": 105,
   "metadata": {},
   "outputs": [
    {
     "data": {
      "text/plain": [
       "array([ 1.        , -1.7755425 , -0.56320814])"
      ]
     },
     "execution_count": 105,
     "metadata": {},
     "output_type": "execute_result"
    }
   ],
   "source": [
    "# diagonalize the matrix\n",
    "from numpy.linalg import eig\n",
    "eigenvalues, eigenvectors = eig(matrix)\n",
    "eigenvalues"
   ]
  },
  {
   "cell_type": "code",
   "execution_count": 151,
   "metadata": {},
   "outputs": [
    {
     "data": {
      "text/plain": [
       "array([[0., 0., 1.],\n",
       "       [1., 0., 0.],\n",
       "       [0., 1., 0.]])"
      ]
     },
     "execution_count": 151,
     "metadata": {},
     "output_type": "execute_result"
    }
   ],
   "source": [
    "# sample a permutation matrix\n",
    "from numpy.random import permutation\n",
    "permutation_matrix = permutation(3)\n",
    "\n",
    "#create a permutation matrix\n",
    "P = np.eye(3)[permutation_matrix]\n",
    "P"
   ]
  },
  {
   "cell_type": "code",
   "execution_count": 152,
   "metadata": {},
   "outputs": [
    {
     "data": {
      "text/plain": [
       "array([-0.5+0.8660254j, -0.5-0.8660254j,  1. +0.j       ])"
      ]
     },
     "execution_count": 152,
     "metadata": {},
     "output_type": "execute_result"
    }
   ],
   "source": [
    "# diagonalize the permutation matrix\n",
    "eigenvalues, eigenvectors = eig(P)\n",
    "eigenvalues"
   ]
  },
  {
   "cell_type": "code",
   "execution_count": null,
   "metadata": {},
   "outputs": [],
   "source": []
  }
 ],
 "metadata": {
  "kernelspec": {
   "display_name": "adtool",
   "language": "python",
   "name": "python3"
  },
  "language_info": {
   "codemirror_mode": {
    "name": "ipython",
    "version": 3
   },
   "file_extension": ".py",
   "mimetype": "text/x-python",
   "name": "python",
   "nbconvert_exporter": "python",
   "pygments_lexer": "ipython3",
   "version": "3.11.9"
  }
 },
 "nbformat": 4,
 "nbformat_minor": 2
}
