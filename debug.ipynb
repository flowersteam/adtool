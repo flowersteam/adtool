{
 "cells": [
  {
   "cell_type": "code",
   "execution_count": 55,
   "metadata": {},
   "outputs": [],
   "source": [
    "from enum import Enum\n",
    "from pydantic import Field\n",
    "\n",
    "class BehaviorMapEnum(Enum):\n",
    "    Mean = 'Mean'\n",
    "    LeniaStatistics = 'LeniaStatistics'\n",
    "\n",
    "class ParameterMapEnum(Enum):\n",
    "    Uniform = 'Uniform'\n",
    "    LeniaParameterMap = 'LeniaParameterMap'\n",
    "\n",
    "class MutatorEnum(Enum):\n",
    "    Gaussian = 'gaussian'\n",
    "    Specific = 'specific'\n",
    "\n",
    "\n",
    "\n",
    "from typing import Dict\n",
    "from dataclasses import dataclass\n",
    "\n",
    "from pydantic import BaseModel\n",
    "\n",
    "\n",
    "\n",
    "class IMGEPConfig(BaseModel):\n",
    "    equil_time: int = Field(1, ge=1, le=1000)\n",
    "    behavior_map: BehaviorMapEnum = Field(BehaviorMapEnum.Mean)\n",
    "    behavior_map_config: Dict = Field({})\n",
    "    parameter_map: ParameterMapEnum = Field(ParameterMapEnum.Uniform)\n",
    "    parameter_map_config: Dict = Field({})\n",
    "    mutator: MutatorEnum = Field(MutatorEnum.Specific)\n",
    "    mutator_config: Dict = Field({})"
   ]
  },
  {
   "cell_type": "code",
   "execution_count": 128,
   "metadata": {},
   "outputs": [],
   "source": [
    "#model[\"mutator\"]\n",
    "# FieldInfo(annotation=MutatorEnum, required=False, default=<MutatorEnum.Specific: 'specific'>)\n",
    "# to dict\n",
    "# {'type': 'MutatorEnum', 'required': False, 'default': 'specific', 'enum': ['gaussian', 'specific']}\n",
    "def to_json(model):\n",
    "    json = {}\n",
    "    for k,v in model.model_fields.items():\n",
    "        json[k] = {\n",
    "            \"type\": v.annotation.__name__,\n",
    "         #   \"required\": field.required,\n",
    "            \"default\": v.default if v.default is not None else None\n",
    "        }\n",
    "        #check if enum\n",
    "        if  isinstance(v.annotation, Enum):\n",
    "            json[k][\"enum\"] =  map(lambda x: x.value, v.annotation)\n",
    "    return json\n"
   ]
  },
  {
   "cell_type": "code",
   "execution_count": 129,
   "metadata": {},
   "outputs": [
    {
     "name": "stdout",
     "output_type": "stream",
     "text": [
      "{'equil_time': {'type': 'int', 'default': 1}, 'behavior_map': {'type': 'BehaviorMapEnum', 'default': <BehaviorMapEnum.Mean: 'Mean'>}, 'behavior_map_config': {'type': 'Dict', 'default': {}}, 'parameter_map': {'type': 'ParameterMapEnum', 'default': <ParameterMapEnum.Uniform: 'Uniform'>}, 'parameter_map_config': {'type': 'Dict', 'default': {}}, 'mutator': {'type': 'MutatorEnum', 'default': <MutatorEnum.Specific: 'specific'>}, 'mutator_config': {'type': 'Dict', 'default': {}}}\n"
     ]
    }
   ],
   "source": [
    "print(to_json(IMGEPConfig))"
   ]
  },
  {
   "cell_type": "code",
   "execution_count": 85,
   "metadata": {},
   "outputs": [
    {
     "data": {
      "text/plain": [
       "{'equil_time': FieldInfo(annotation=int, required=False, default=1, metadata=[Ge(ge=1), Le(le=1000)]),\n",
       " 'behavior_map': FieldInfo(annotation=BehaviorMapEnum, required=False, default=<BehaviorMapEnum.Mean: 'Mean'>),\n",
       " 'behavior_map_config': FieldInfo(annotation=Dict, required=False, default={}),\n",
       " 'parameter_map': FieldInfo(annotation=ParameterMapEnum, required=False, default=<ParameterMapEnum.Uniform: 'Uniform'>),\n",
       " 'parameter_map_config': FieldInfo(annotation=Dict, required=False, default={}),\n",
       " 'mutator': FieldInfo(annotation=MutatorEnum, required=False, default=<MutatorEnum.Specific: 'specific'>),\n",
       " 'mutator_config': FieldInfo(annotation=Dict, required=False, default={})}"
      ]
     },
     "execution_count": 85,
     "metadata": {},
     "output_type": "execute_result"
    }
   ],
   "source": [
    "IMGEPConfig.model_fields"
   ]
  },
  {
   "cell_type": "code",
   "execution_count": 86,
   "metadata": {},
   "outputs": [
    {
     "ename": "AttributeError",
     "evalue": "'dict' object has no attribute '__fields__'",
     "output_type": "error",
     "traceback": [
      "\u001b[0;31m---------------------------------------------------------------------------\u001b[0m",
      "\u001b[0;31mAttributeError\u001b[0m                            Traceback (most recent call last)",
      "Cell \u001b[0;32mIn[86], line 1\u001b[0m\n\u001b[0;32m----> 1\u001b[0m \u001b[43mto_json\u001b[49m\u001b[43m(\u001b[49m\u001b[43mIMGEPConfig\u001b[49m\u001b[38;5;241;43m.\u001b[39;49m\u001b[43mmodel_fields\u001b[49m\u001b[43m)\u001b[49m\n",
      "Cell \u001b[0;32mIn[84], line 7\u001b[0m, in \u001b[0;36mto_json\u001b[0;34m(model)\u001b[0m\n\u001b[1;32m      5\u001b[0m \u001b[38;5;28;01mdef\u001b[39;00m \u001b[38;5;21mto_json\u001b[39m(model):\n\u001b[1;32m      6\u001b[0m     json \u001b[38;5;241m=\u001b[39m {}\n\u001b[0;32m----> 7\u001b[0m     \u001b[38;5;28;01mfor\u001b[39;00m field \u001b[38;5;129;01min\u001b[39;00m \u001b[43mmodel\u001b[49m\u001b[38;5;241;43m.\u001b[39;49m\u001b[43m__fields__\u001b[49m\u001b[38;5;241m.\u001b[39mvalues():\n\u001b[1;32m      8\u001b[0m         json[field\u001b[38;5;241m.\u001b[39mname] \u001b[38;5;241m=\u001b[39m {\n\u001b[1;32m      9\u001b[0m             \u001b[38;5;124m\"\u001b[39m\u001b[38;5;124mtype\u001b[39m\u001b[38;5;124m\"\u001b[39m: field\u001b[38;5;241m.\u001b[39mtype_\u001b[38;5;241m.\u001b[39m\u001b[38;5;18m__name__\u001b[39m,\n\u001b[1;32m     10\u001b[0m             \u001b[38;5;124m\"\u001b[39m\u001b[38;5;124mrequired\u001b[39m\u001b[38;5;124m\"\u001b[39m: field\u001b[38;5;241m.\u001b[39mrequired,\n\u001b[1;32m     11\u001b[0m             \u001b[38;5;124m\"\u001b[39m\u001b[38;5;124mdefault\u001b[39m\u001b[38;5;124m\"\u001b[39m: field\u001b[38;5;241m.\u001b[39mdefault,\n\u001b[1;32m     12\u001b[0m         }\n\u001b[1;32m     13\u001b[0m         \u001b[38;5;28;01mif\u001b[39;00m field\u001b[38;5;241m.\u001b[39mtype_\u001b[38;5;241m.\u001b[39m\u001b[38;5;18m__name__\u001b[39m \u001b[38;5;241m==\u001b[39m \u001b[38;5;124m\"\u001b[39m\u001b[38;5;124mEnum\u001b[39m\u001b[38;5;124m\"\u001b[39m:\n",
      "\u001b[0;31mAttributeError\u001b[0m: 'dict' object has no attribute '__fields__'"
     ]
    }
   ],
   "source": [
    "to_json(IMGEPConfig.model_fields)"
   ]
  },
  {
   "cell_type": "code",
   "execution_count": 64,
   "metadata": {},
   "outputs": [
    {
     "data": {
      "text/plain": [
       "{'equil_time': FieldInfo(annotation=int, required=False, default=1, metadata=[Ge(ge=1), Le(le=1000)]),\n",
       " 'behavior_map': FieldInfo(annotation=BehaviorMapEnum, required=False, default=<BehaviorMapEnum.Mean: 'Mean'>),\n",
       " 'behavior_map_config': FieldInfo(annotation=Dict, required=False, default={}),\n",
       " 'parameter_map': FieldInfo(annotation=ParameterMapEnum, required=False, default=<ParameterMapEnum.Uniform: 'Uniform'>),\n",
       " 'parameter_map_config': FieldInfo(annotation=Dict, required=False, default={}),\n",
       " 'mutator': FieldInfo(annotation=MutatorEnum, required=False, default=<MutatorEnum.Specific: 'specific'>),\n",
       " 'mutator_config': FieldInfo(annotation=Dict, required=False, default={})}"
      ]
     },
     "execution_count": 64,
     "metadata": {},
     "output_type": "execute_result"
    }
   ],
   "source": [
    "IMGEPConfig.__fields__"
   ]
  },
  {
   "cell_type": "code",
   "execution_count": 57,
   "metadata": {},
   "outputs": [
    {
     "data": {
      "text/plain": [
       "IMGEPConfig(equil_time=1, behavior_map=<BehaviorMapEnum.LeniaStatistics: 'LeniaStatistics'>, behavior_map_config={}, parameter_map=<ParameterMapEnum.Uniform: 'Uniform'>, parameter_map_config={}, mutator=<MutatorEnum.Specific: 'specific'>, mutator_config={})"
      ]
     },
     "execution_count": 57,
     "metadata": {},
     "output_type": "execute_result"
    }
   ],
   "source": [
    "json={\n",
    "    \"equil_time\": 1,\n",
    "    \"behavior_map\": \"LeniaStatistics\",\n",
    "    \"behavior_map_config\": {},\n",
    "    \"parameter_map\": \"Uniform\",\n",
    "    \"parameter_map_config\": {},\n",
    "    \"mutator\": \"specific\",\n",
    "    \"mutator_config\": {}\n",
    "}\n",
    "\n",
    "IMGEPConfig(**json)"
   ]
  },
  {
   "cell_type": "code",
   "execution_count": null,
   "metadata": {},
   "outputs": [],
   "source": []
  }
 ],
 "metadata": {
  "kernelspec": {
   "display_name": "adtool",
   "language": "python",
   "name": "python3"
  },
  "language_info": {
   "codemirror_mode": {
    "name": "ipython",
    "version": 3
   },
   "file_extension": ".py",
   "mimetype": "text/x-python",
   "name": "python",
   "nbconvert_exporter": "python",
   "pygments_lexer": "ipython3",
   "version": "3.11.8"
  }
 },
 "nbformat": 4,
 "nbformat_minor": 2
}
