{
 "cells": [
  {
   "cell_type": "code",
   "execution_count": 1,
   "metadata": {},
   "outputs": [
    {
     "name": "stdout",
     "output_type": "stream",
     "text": [
      "Processing /home/flowers-user/adtool\n",
      "  Installing build dependencies ... \u001b[?25ldone\n",
      "\u001b[?25h  Getting requirements to build wheel ... \u001b[?25ldone\n",
      "\u001b[?25h  Preparing metadata (pyproject.toml) ... \u001b[?25ldone\n",
      "\u001b[?25hRequirement already satisfied: addict==2.4.0 in /home/flowers-user/anaconda3/envs/adtool/lib/python3.11/site-packages (from adtool==0.1.0) (2.4.0)\n",
      "Requirement already satisfied: filetype==1.2.0 in /home/flowers-user/anaconda3/envs/adtool/lib/python3.11/site-packages (from adtool==0.1.0) (1.2.0)\n",
      "Requirement already satisfied: graphviz==0.20.1 in /home/flowers-user/anaconda3/envs/adtool/lib/python3.11/site-packages (from adtool==0.1.0) (0.20.1)\n",
      "Requirement already satisfied: imageio==2.34.0 in /home/flowers-user/anaconda3/envs/adtool/lib/python3.11/site-packages (from adtool==0.1.0) (2.34.0)\n",
      "Requirement already satisfied: imageio-ffmpeg==0.4.9 in /home/flowers-user/anaconda3/envs/adtool/lib/python3.11/site-packages (from adtool==0.1.0) (0.4.9)\n",
      "Requirement already satisfied: matplotlib>=3.8 in /home/flowers-user/anaconda3/envs/adtool/lib/python3.11/site-packages (from adtool==0.1.0) (3.8.4)\n",
      "Requirement already satisfied: mergedeep==1.3.4 in /home/flowers-user/anaconda3/envs/adtool/lib/python3.11/site-packages (from adtool==0.1.0) (1.3.4)\n",
      "Requirement already satisfied: neat-python==0.92 in /home/flowers-user/anaconda3/envs/adtool/lib/python3.11/site-packages (from adtool==0.1.0) (0.92)\n",
      "Requirement already satisfied: numpy>=1.26 in /home/flowers-user/anaconda3/envs/adtool/lib/python3.11/site-packages (from adtool==0.1.0) (1.26.4)\n",
      "Requirement already satisfied: pexpect>=4.8.0 in /home/flowers-user/anaconda3/envs/adtool/lib/python3.11/site-packages (from adtool==0.1.0) (4.9.0)\n",
      "Requirement already satisfied: pillow==10.2.0 in /home/flowers-user/anaconda3/envs/adtool/lib/python3.11/site-packages (from adtool==0.1.0) (10.2.0)\n",
      "Requirement already satisfied: requests>=2 in /home/flowers-user/anaconda3/envs/adtool/lib/python3.11/site-packages (from adtool==0.1.0) (2.31.0)\n",
      "Requirement already satisfied: sqlalchemy>=2.0 in /home/flowers-user/anaconda3/envs/adtool/lib/python3.11/site-packages (from adtool==0.1.0) (2.0.30)\n",
      "Requirement already satisfied: tinydb==4.8.0 in /home/flowers-user/anaconda3/envs/adtool/lib/python3.11/site-packages (from adtool==0.1.0) (4.8.0)\n",
      "Requirement already satisfied: toml>=0.10.2 in /home/flowers-user/anaconda3/envs/adtool/lib/python3.11/site-packages (from adtool==0.1.0) (0.10.2)\n",
      "Requirement already satisfied: torch>=1.7.1 in /home/flowers-user/anaconda3/envs/adtool/lib/python3.11/site-packages (from adtool==0.1.0) (2.3.0)\n",
      "Requirement already satisfied: urllib3==2.2.1 in /home/flowers-user/anaconda3/envs/adtool/lib/python3.11/site-packages (from adtool==0.1.0) (2.2.1)\n",
      "Requirement already satisfied: watchdog>=4.0.0 in /home/flowers-user/anaconda3/envs/adtool/lib/python3.11/site-packages (from adtool==0.1.0) (4.0.0)\n",
      "Requirement already satisfied: annotated-types==0.6.0 in /home/flowers-user/anaconda3/envs/adtool/lib/python3.11/site-packages (from adtool==0.1.0) (0.6.0)\n",
      "Requirement already satisfied: pydantic==2.7.1 in /home/flowers-user/anaconda3/envs/adtool/lib/python3.11/site-packages (from adtool==0.1.0) (2.7.1)\n",
      "Requirement already satisfied: moviepy==1.0.3 in /home/flowers-user/anaconda3/envs/adtool/lib/python3.11/site-packages (from adtool==0.1.0) (1.0.3)\n",
      "Requirement already satisfied: ipython==8.24.0 in /home/flowers-user/anaconda3/envs/adtool/lib/python3.11/site-packages (from adtool==0.1.0) (8.24.0)\n",
      "Requirement already satisfied: setuptools in /home/flowers-user/anaconda3/envs/adtool/lib/python3.11/site-packages (from imageio-ffmpeg==0.4.9->adtool==0.1.0) (70.0.0)\n",
      "Requirement already satisfied: decorator in /home/flowers-user/anaconda3/envs/adtool/lib/python3.11/site-packages (from ipython==8.24.0->adtool==0.1.0) (4.4.2)\n",
      "Requirement already satisfied: jedi>=0.16 in /home/flowers-user/anaconda3/envs/adtool/lib/python3.11/site-packages (from ipython==8.24.0->adtool==0.1.0) (0.19.1)\n",
      "Requirement already satisfied: matplotlib-inline in /home/flowers-user/anaconda3/envs/adtool/lib/python3.11/site-packages (from ipython==8.24.0->adtool==0.1.0) (0.1.7)\n",
      "Requirement already satisfied: prompt-toolkit<3.1.0,>=3.0.41 in /home/flowers-user/anaconda3/envs/adtool/lib/python3.11/site-packages (from ipython==8.24.0->adtool==0.1.0) (3.0.43)\n",
      "Requirement already satisfied: pygments>=2.4.0 in /home/flowers-user/anaconda3/envs/adtool/lib/python3.11/site-packages (from ipython==8.24.0->adtool==0.1.0) (2.18.0)\n",
      "Requirement already satisfied: stack-data in /home/flowers-user/anaconda3/envs/adtool/lib/python3.11/site-packages (from ipython==8.24.0->adtool==0.1.0) (0.6.3)\n",
      "Requirement already satisfied: traitlets>=5.13.0 in /home/flowers-user/anaconda3/envs/adtool/lib/python3.11/site-packages (from ipython==8.24.0->adtool==0.1.0) (5.14.3)\n",
      "Requirement already satisfied: typing-extensions>=4.6 in /home/flowers-user/anaconda3/envs/adtool/lib/python3.11/site-packages (from ipython==8.24.0->adtool==0.1.0) (4.11.0)\n",
      "Requirement already satisfied: tqdm<5.0,>=4.11.2 in /home/flowers-user/anaconda3/envs/adtool/lib/python3.11/site-packages (from moviepy==1.0.3->adtool==0.1.0) (4.66.4)\n",
      "Requirement already satisfied: proglog<=1.0.0 in /home/flowers-user/anaconda3/envs/adtool/lib/python3.11/site-packages (from moviepy==1.0.3->adtool==0.1.0) (0.1.10)\n",
      "Requirement already satisfied: pydantic-core==2.18.2 in /home/flowers-user/anaconda3/envs/adtool/lib/python3.11/site-packages (from pydantic==2.7.1->adtool==0.1.0) (2.18.2)\n",
      "Requirement already satisfied: contourpy>=1.0.1 in /home/flowers-user/anaconda3/envs/adtool/lib/python3.11/site-packages (from matplotlib>=3.8->adtool==0.1.0) (1.2.1)\n",
      "Requirement already satisfied: cycler>=0.10 in /home/flowers-user/anaconda3/envs/adtool/lib/python3.11/site-packages (from matplotlib>=3.8->adtool==0.1.0) (0.12.1)\n",
      "Requirement already satisfied: fonttools>=4.22.0 in /home/flowers-user/anaconda3/envs/adtool/lib/python3.11/site-packages (from matplotlib>=3.8->adtool==0.1.0) (4.51.0)\n",
      "Requirement already satisfied: kiwisolver>=1.3.1 in /home/flowers-user/anaconda3/envs/adtool/lib/python3.11/site-packages (from matplotlib>=3.8->adtool==0.1.0) (1.4.5)\n",
      "Requirement already satisfied: packaging>=20.0 in /home/flowers-user/anaconda3/envs/adtool/lib/python3.11/site-packages (from matplotlib>=3.8->adtool==0.1.0) (24.1)\n",
      "Requirement already satisfied: pyparsing>=2.3.1 in /home/flowers-user/anaconda3/envs/adtool/lib/python3.11/site-packages (from matplotlib>=3.8->adtool==0.1.0) (3.1.2)\n",
      "Requirement already satisfied: python-dateutil>=2.7 in /home/flowers-user/anaconda3/envs/adtool/lib/python3.11/site-packages (from matplotlib>=3.8->adtool==0.1.0) (2.9.0.post0)\n",
      "Requirement already satisfied: ptyprocess>=0.5 in /home/flowers-user/anaconda3/envs/adtool/lib/python3.11/site-packages (from pexpect>=4.8.0->adtool==0.1.0) (0.7.0)\n",
      "Requirement already satisfied: charset-normalizer<4,>=2 in /home/flowers-user/anaconda3/envs/adtool/lib/python3.11/site-packages (from requests>=2->adtool==0.1.0) (3.3.2)\n",
      "Requirement already satisfied: idna<4,>=2.5 in /home/flowers-user/anaconda3/envs/adtool/lib/python3.11/site-packages (from requests>=2->adtool==0.1.0) (3.7)\n",
      "Requirement already satisfied: certifi>=2017.4.17 in /home/flowers-user/anaconda3/envs/adtool/lib/python3.11/site-packages (from requests>=2->adtool==0.1.0) (2024.2.2)\n",
      "Requirement already satisfied: greenlet!=0.4.17 in /home/flowers-user/anaconda3/envs/adtool/lib/python3.11/site-packages (from sqlalchemy>=2.0->adtool==0.1.0) (3.0.3)\n",
      "Requirement already satisfied: filelock in /home/flowers-user/anaconda3/envs/adtool/lib/python3.11/site-packages (from torch>=1.7.1->adtool==0.1.0) (3.14.0)\n",
      "Requirement already satisfied: sympy in /home/flowers-user/anaconda3/envs/adtool/lib/python3.11/site-packages (from torch>=1.7.1->adtool==0.1.0) (1.12)\n",
      "Requirement already satisfied: networkx in /home/flowers-user/anaconda3/envs/adtool/lib/python3.11/site-packages (from torch>=1.7.1->adtool==0.1.0) (3.3)\n",
      "Requirement already satisfied: jinja2 in /home/flowers-user/anaconda3/envs/adtool/lib/python3.11/site-packages (from torch>=1.7.1->adtool==0.1.0) (3.1.4)\n",
      "Requirement already satisfied: fsspec in /home/flowers-user/anaconda3/envs/adtool/lib/python3.11/site-packages (from torch>=1.7.1->adtool==0.1.0) (2024.3.1)\n",
      "Requirement already satisfied: nvidia-cuda-nvrtc-cu12==12.1.105 in /home/flowers-user/anaconda3/envs/adtool/lib/python3.11/site-packages (from torch>=1.7.1->adtool==0.1.0) (12.1.105)\n",
      "Requirement already satisfied: nvidia-cuda-runtime-cu12==12.1.105 in /home/flowers-user/anaconda3/envs/adtool/lib/python3.11/site-packages (from torch>=1.7.1->adtool==0.1.0) (12.1.105)\n",
      "Requirement already satisfied: nvidia-cuda-cupti-cu12==12.1.105 in /home/flowers-user/anaconda3/envs/adtool/lib/python3.11/site-packages (from torch>=1.7.1->adtool==0.1.0) (12.1.105)\n",
      "Requirement already satisfied: nvidia-cudnn-cu12==8.9.2.26 in /home/flowers-user/anaconda3/envs/adtool/lib/python3.11/site-packages (from torch>=1.7.1->adtool==0.1.0) (8.9.2.26)\n",
      "Requirement already satisfied: nvidia-cublas-cu12==12.1.3.1 in /home/flowers-user/anaconda3/envs/adtool/lib/python3.11/site-packages (from torch>=1.7.1->adtool==0.1.0) (12.1.3.1)\n",
      "Requirement already satisfied: nvidia-cufft-cu12==11.0.2.54 in /home/flowers-user/anaconda3/envs/adtool/lib/python3.11/site-packages (from torch>=1.7.1->adtool==0.1.0) (11.0.2.54)\n",
      "Requirement already satisfied: nvidia-curand-cu12==10.3.2.106 in /home/flowers-user/anaconda3/envs/adtool/lib/python3.11/site-packages (from torch>=1.7.1->adtool==0.1.0) (10.3.2.106)\n",
      "Requirement already satisfied: nvidia-cusolver-cu12==11.4.5.107 in /home/flowers-user/anaconda3/envs/adtool/lib/python3.11/site-packages (from torch>=1.7.1->adtool==0.1.0) (11.4.5.107)\n",
      "Requirement already satisfied: nvidia-cusparse-cu12==12.1.0.106 in /home/flowers-user/anaconda3/envs/adtool/lib/python3.11/site-packages (from torch>=1.7.1->adtool==0.1.0) (12.1.0.106)\n",
      "Requirement already satisfied: nvidia-nccl-cu12==2.20.5 in /home/flowers-user/anaconda3/envs/adtool/lib/python3.11/site-packages (from torch>=1.7.1->adtool==0.1.0) (2.20.5)\n",
      "Requirement already satisfied: nvidia-nvtx-cu12==12.1.105 in /home/flowers-user/anaconda3/envs/adtool/lib/python3.11/site-packages (from torch>=1.7.1->adtool==0.1.0) (12.1.105)\n",
      "Requirement already satisfied: triton==2.3.0 in /home/flowers-user/anaconda3/envs/adtool/lib/python3.11/site-packages (from torch>=1.7.1->adtool==0.1.0) (2.3.0)\n",
      "Requirement already satisfied: nvidia-nvjitlink-cu12 in /home/flowers-user/anaconda3/envs/adtool/lib/python3.11/site-packages (from nvidia-cusolver-cu12==11.4.5.107->torch>=1.7.1->adtool==0.1.0) (12.4.127)\n",
      "Requirement already satisfied: parso<0.9.0,>=0.8.3 in /home/flowers-user/anaconda3/envs/adtool/lib/python3.11/site-packages (from jedi>=0.16->ipython==8.24.0->adtool==0.1.0) (0.8.4)\n",
      "Requirement already satisfied: wcwidth in /home/flowers-user/anaconda3/envs/adtool/lib/python3.11/site-packages (from prompt-toolkit<3.1.0,>=3.0.41->ipython==8.24.0->adtool==0.1.0) (0.2.13)\n",
      "Requirement already satisfied: six>=1.5 in /home/flowers-user/anaconda3/envs/adtool/lib/python3.11/site-packages (from python-dateutil>=2.7->matplotlib>=3.8->adtool==0.1.0) (1.16.0)\n",
      "Requirement already satisfied: MarkupSafe>=2.0 in /home/flowers-user/anaconda3/envs/adtool/lib/python3.11/site-packages (from jinja2->torch>=1.7.1->adtool==0.1.0) (2.1.5)\n",
      "Requirement already satisfied: executing>=1.2.0 in /home/flowers-user/anaconda3/envs/adtool/lib/python3.11/site-packages (from stack-data->ipython==8.24.0->adtool==0.1.0) (2.0.1)\n",
      "Requirement already satisfied: asttokens>=2.1.0 in /home/flowers-user/anaconda3/envs/adtool/lib/python3.11/site-packages (from stack-data->ipython==8.24.0->adtool==0.1.0) (2.4.1)\n",
      "Requirement already satisfied: pure-eval in /home/flowers-user/anaconda3/envs/adtool/lib/python3.11/site-packages (from stack-data->ipython==8.24.0->adtool==0.1.0) (0.2.2)\n",
      "Requirement already satisfied: mpmath>=0.19 in /home/flowers-user/anaconda3/envs/adtool/lib/python3.11/site-packages (from sympy->torch>=1.7.1->adtool==0.1.0) (1.3.0)\n",
      "Building wheels for collected packages: adtool\n",
      "  Building wheel for adtool (pyproject.toml) ... \u001b[?25ldone\n",
      "\u001b[?25h  Created wheel for adtool: filename=adtool-0.1.0-py3-none-any.whl size=8440 sha256=df808c4e8bc329f1b90d9d438a6eeff2802e4e6f9aebe418e1dba71843c6133b\n",
      "  Stored in directory: /tmp/pip-ephem-wheel-cache-0j5010_e/wheels/6d/c0/00/f3659c1bb968fc5e765ae5a4329ac09d001f4252246ccd9819\n",
      "Successfully built adtool\n",
      "Installing collected packages: adtool\n",
      "  Attempting uninstall: adtool\n",
      "    Found existing installation: adtool 0.1.0\n",
      "    Uninstalling adtool-0.1.0:\n",
      "      Successfully uninstalled adtool-0.1.0\n",
      "Successfully installed adtool-0.1.0\n",
      "Note: you may need to restart the kernel to use updated packages.\n"
     ]
    }
   ],
   "source": [
    "pip install ."
   ]
  },
  {
   "cell_type": "code",
   "execution_count": 2,
   "metadata": {},
   "outputs": [],
   "source": [
    "import adtool\n"
   ]
  },
  {
   "cell_type": "code",
   "execution_count": 1,
   "metadata": {},
   "outputs": [],
   "source": [
    "import adtool.ExperimentPipeline"
   ]
  },
  {
   "cell_type": "code",
   "execution_count": null,
   "metadata": {},
   "outputs": [],
   "source": []
  }
 ],
 "metadata": {
  "kernelspec": {
   "display_name": "adtool",
   "language": "python",
   "name": "python3"
  },
  "language_info": {
   "codemirror_mode": {
    "name": "ipython",
    "version": 3
   },
   "file_extension": ".py",
   "mimetype": "text/x-python",
   "name": "python",
   "nbconvert_exporter": "python",
   "pygments_lexer": "ipython3",
   "version": "3.11.9"
  }
 },
 "nbformat": 4,
 "nbformat_minor": 2
}
